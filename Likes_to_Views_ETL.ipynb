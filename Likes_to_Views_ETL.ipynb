{
 "cells": [
  {
   "cell_type": "code",
   "execution_count": null,
   "metadata": {},
   "outputs": [],
   "source": [
    "# Libraries\n",
    "import pandas as pd\n",
    "import json\n",
    "import matplotlib.pyplot as plt\n",
    "import numpy as np"
   ]
  },
  {
   "cell_type": "markdown",
   "metadata": {},
   "source": [
    "### Helper Functions"
   ]
  },
  {
   "cell_type": "code",
   "execution_count": null,
   "metadata": {},
   "outputs": [],
   "source": [
    "# Takes YouTube's video categories from json files and creates a DF with category names\n",
    "def convert_json_cats_to_pandas(json_dir):\n",
    "    # Load in the categories\n",
    "    with open(json_dir) as f:\n",
    "        cat_data = json.load(f)\n",
    "\n",
    "    cat = {'category_id': [], 'cat_name': []}\n",
    "\n",
    "    for i in cat_data['items']:\n",
    "        cat['category_id'].append(i['id'])\n",
    "        cat['cat_name'].append(i['snippet']['title'])\n",
    "\n",
    "    df = pd.DataFrame(data=cat)\n",
    "\n",
    "    return df"
   ]
  },
  {
   "cell_type": "code",
   "execution_count": null,
   "metadata": {},
   "outputs": [],
   "source": [
    "# Transforms and cleans raw data. Returns a DF with likes to views ratio\n",
    "def get_merged_data(vid_path, cat_path, year, country_code):\n",
    "    # Import the video trending data\n",
    "    vids_df = pd.read_csv(vid_path)\n",
    "    \n",
    "    # Add country to the dataframe\n",
    "    vids_df['country'] = country_code\n",
    "    \n",
    "    # Clean 2020 data\n",
    "    if year == 2020:\n",
    "        vids_df['category_id'] = vids_df['categoryId']\n",
    "        vids_df['views'] = vids_df['view_count']\n",
    "        vids_df['publish_time'] = vids_df['publishedAt']\n",
    "        vids_df['channel_title'] = vids_df['channelTitle']\n",
    "\n",
    "    cats_df = convert_json_cats_to_pandas(cat_path)\n",
    "    cats_df['category_id'] = cats_df['category_id'].astype(int)\n",
    "    \n",
    "    # Merge video and category dataframes\n",
    "    df = pd.merge(vids_df, cats_df, on='category_id')\n",
    "    \n",
    "    # Clean 2018 data and filter first 4 months\n",
    "    if year == 2018:\n",
    "        df['trending_date'] = pd.to_datetime(df['trending_date'], format='%y.%d.%m')\n",
    "        df['trending_year'] = df['trending_date'].dt.year\n",
    "        df['trending_month'] = df['trending_date'].dt.month\n",
    "        df = df[df['trending_year'] == 2018]\n",
    "        df = df[df['trending_month'] <= 4]\n",
    "    \n",
    "    # Select only columns we are interested in\n",
    "    likes_views_df = df[['title', 'channel_title', 'category_id', 'cat_name', 'views',\n",
    "                                    'likes', 'dislikes', 'trending_date', 'country']].copy(deep=True)\n",
    "    \n",
    "    likes_views_df = likes_views_df[likes_views_df['cat_name'] != 'Shows']\n",
    "    likes_views_df = likes_views_df[likes_views_df['cat_name'] != 'Movies']\n",
    "    \n",
    "    # Create column of likes to views ratio\n",
    "    likes_views_df['likes_to_views'] = (likes_views_df['likes'] / likes_views_df['views'])\n",
    "        \n",
    "    return likes_views_df"
   ]
  },
  {
   "cell_type": "markdown",
   "metadata": {},
   "source": [
    "### Extract-Transform YouTube Data"
   ]
  },
  {
   "cell_type": "markdown",
   "metadata": {},
   "source": [
    "#### Extract-Transform, Save 2018 Data"
   ]
  },
  {
   "cell_type": "code",
   "execution_count": null,
   "metadata": {},
   "outputs": [],
   "source": [
    "# Get 2018 data for the year and each country\n",
    "countries = ['CA', 'GB', 'US']\n",
    "\n",
    "files_df = pd.DataFrame({'vid_paths': ['./2018 Data/CAvideos.csv.zip', './2018 Data/GBvideos.csv.zip', './2018 Data/USvideos.csv.zip'],\n",
    "                         'cat_paths': ['./2018 Data/CA_category_id.json','./2018 Data/GB_category_id.json','./2018 Data/US_category_id.json'],\n",
    "                         'countries': ['CA', 'GB', 'US']\n",
    "                        })\n",
    "\n",
    "column_list = {'title', 'channel_title', 'category_id', 'cat_name', 'views','likes', 'dislikes', 'trending_date', 'country'}\n",
    "\n",
    "# merge dataframes together\n",
    "total_2018_df = pd.DataFrame()\n",
    "for i, file in files_df.iterrows():\n",
    "    df = get_merged_data(file['vid_paths'], file['cat_paths'], 2018, file['countries'])\n",
    "    df.to_csv('./transformed-data/2018_' + file['countries'] + '_data.csv')\n",
    "    print(file['countries'], df.shape[0])\n",
    "    \n",
    "    # append data for yearly total\n",
    "    total_2018_df = total_2018_df.append(df, ignore_index=True)\n",
    "\n",
    "total_2018_df.to_csv('./transformed-data/data_2018_all.csv')\n",
    "print(\"Total trending videos in 2018 (Jan - Apr): \" + str(total_2018_df.shape[0]))"
   ]
  },
  {
   "cell_type": "markdown",
   "metadata": {},
   "source": [
    "#### Extract-Transform, Save 2020 Data"
   ]
  },
  {
   "cell_type": "code",
   "execution_count": null,
   "metadata": {},
   "outputs": [],
   "source": [
    "# Get 2020 data for the year and each country\n",
    "countries = ['CA', 'GB', 'US']\n",
    "\n",
    "files_df = pd.DataFrame({'vid_paths': ['./2020 Data/CA_youtube_trending_data.csv.zip', './2020 Data/GB_youtube_trending_data.csv.zip', './2020 Data/US_youtube_trending_data.csv.zip'],\n",
    "                         'cat_paths': ['./2020 Data/CA_category_id.json','./2020 Data/GB_category_id.json','./2020 Data/US_category_id.json'],\n",
    "                         'countries': ['CA', 'GB', 'US']\n",
    "                        })\n",
    "\n",
    "column_list = {'title', 'channel_title', 'category_id', 'cat_name', 'views','likes', 'dislikes', 'trending_date', 'country'}\n",
    "\n",
    "# merge dataframes together\n",
    "total_2020_df = pd.DataFrame()\n",
    "for i, file in files_df.iterrows():\n",
    "    df = get_merged_data(file['vid_paths'], file['cat_paths'], 2020, file['countries'])\n",
    "    df.to_csv('./transformed-data/2020_' + file['countries'] + '_data.csv')\n",
    "    print(file['countries'], df.shape[0])\n",
    "    \n",
    "    # append data for yearly total\n",
    "    total_2020_df = total_2020_df.append(df, ignore_index=True)\n",
    "\n",
    "total_2020_df.to_csv('./transformed-data/data_2020_all.csv')\n",
    "print(\"Total trending videos in 2020 (Aug - Oct): \" + str(total_2020_df.shape[0]))"
   ]
  },
  {
   "cell_type": "code",
   "execution_count": null,
   "metadata": {},
   "outputs": [],
   "source": []
  }
 ],
 "metadata": {
  "kernelspec": {
   "display_name": "Python 3",
   "language": "python",
   "name": "python3"
  },
  "language_info": {
   "codemirror_mode": {
    "name": "ipython",
    "version": 3
   },
   "file_extension": ".py",
   "mimetype": "text/x-python",
   "name": "python",
   "nbconvert_exporter": "python",
   "pygments_lexer": "ipython3",
   "version": "3.8.5"
  }
 },
 "nbformat": 4,
 "nbformat_minor": 4
}
