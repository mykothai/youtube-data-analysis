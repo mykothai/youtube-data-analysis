{
 "cells": [
  {
   "cell_type": "code",
   "execution_count": null,
   "metadata": {},
   "outputs": [],
   "source": [
    "# Libraries\n",
    "import pandas as pd\n",
    "import matplotlib.pyplot as plt\n",
    "import numpy as np"
   ]
  },
  {
   "cell_type": "code",
   "execution_count": null,
   "metadata": {},
   "outputs": [],
   "source": [
    "# Directory to save plots\n",
    "save_dir = './Trending Video Likes to Views Ratio Analysis PLOTS/'"
   ]
  },
  {
   "cell_type": "markdown",
   "metadata": {},
   "source": [
    "## Trending Videos by Year"
   ]
  },
  {
   "cell_type": "code",
   "execution_count": null,
   "metadata": {},
   "outputs": [],
   "source": [
    "# Read in yearly data\n",
    "total_2018_df = pd.read_csv('./transformed-data/data_2018_all.csv')\n",
    "total_2020_df = pd.read_csv('./transformed-data/data_2020_all.csv')"
   ]
  },
  {
   "cell_type": "markdown",
   "metadata": {},
   "source": [
    "### Total Trending Videos"
   ]
  },
  {
   "cell_type": "code",
   "execution_count": null,
   "metadata": {
    "scrolled": true
   },
   "outputs": [],
   "source": [
    "# Total trending videos yearly\n",
    "totals = [total_2018_df.shape[0], total_2020_df.shape[0]]  # number of rows of each year\n",
    "\n",
    "fig, ax = plt.subplots()\n",
    "fig.patch.set_facecolor('#FFFFFF')\n",
    "fig.set_size_inches(16, 8)\n",
    "years = ['2018', '2020']\n",
    "x_pos = np.arange(len(years))\n",
    "ax.bar(x_pos, totals, align='center')\n",
    "ax.set_ylabel('Total Trending Videos')\n",
    "ax.set_xlabel('Years')\n",
    "ax.set_xticks(x_pos)\n",
    "ax.set_xticklabels(years)\n",
    "title = 'Total Trending Videos in 2018 and 2020'\n",
    "ax.set_title(title)\n",
    "ax.yaxis.grid(True)\n",
    "plt.tight_layout()\n",
    "\n",
    "# Save plot to file\n",
    "# file_title = title + '.png'\n",
    "# plt.savefig(save_dir + file_title, dpi=100,  transparent=False)"
   ]
  },
  {
   "cell_type": "markdown",
   "metadata": {},
   "source": [
    "### Total Trending Videos by Category by Year"
   ]
  },
  {
   "cell_type": "code",
   "execution_count": null,
   "metadata": {},
   "outputs": [],
   "source": [
    "# Total trending videos by category by year\n",
    "cats_count_2018_series = total_2018_df.groupby('cat_name').count()['title']\n",
    "cats_count_2020_series = total_2020_df.groupby('cat_name').count()['title']\n",
    "\n",
    "# Get list of all unique categories\n",
    "cats = set()\n",
    "for cat in cats_count_2018_series.keys():\n",
    "    cats.add(cat)\n",
    "for cat in cats_count_2020_series.keys():\n",
    "    cats.add(cat)\n",
    "    \n",
    "fig, ax = plt.subplots()\n",
    "fig.patch.set_facecolor('#FFFFFF')\n",
    "fig.set_size_inches(16, 8)\n",
    "width = 3\n",
    "count = 0\n",
    "x_ticks = list()\n",
    "\n",
    "for cat in cats:\n",
    "    if cat in cats_count_2018_series:\n",
    "        sum_2018 = cats_count_2018_series[cat]\n",
    "    else: 0\n",
    "    \n",
    "    if cat in cats_count_2020_series:\n",
    "        sum_2020 = cats_count_2020_series[cat]\n",
    "    else: 0\n",
    "\n",
    "    ax.bar(count-width/2, sum_2018, width=width, color='r', align='center')\n",
    "    ax.bar(count+width/2, sum_2020, width=width, color='b', align='center')\n",
    "    x_ticks.append(count)\n",
    "    count += width * 3 + 1\n",
    "    \n",
    "ax.set_xticks(x_ticks)\n",
    "ax.set_xticklabels(cats)\n",
    "ax.legend(['2018', '2020'])\n",
    "ax.yaxis.grid(True)\n",
    "ax.set_ylabel('Total Trending Videos')\n",
    "ax.set_xlabel('Video Categories')\n",
    "title = 'Total Trending Videos by Category and Year'\n",
    "ax.set_title(title)\n",
    "plt.setp(ax.get_xticklabels(), rotation=45, horizontalalignment='right')\n",
    "plt.tight_layout()\n",
    "\n",
    "file_title = title + '.png'\n",
    "plt.savefig(save_dir + file_title, dpi=100)"
   ]
  },
  {
   "cell_type": "markdown",
   "metadata": {},
   "source": [
    "### Number of Videos per Category"
   ]
  },
  {
   "cell_type": "code",
   "execution_count": null,
   "metadata": {},
   "outputs": [],
   "source": [
    "total_cat_count_merged =  cats_count_2018_series.to_frame().merge(cats_count_2020_series, on='cat_name')\n",
    "total_cat_count_merged.sort_values(by='cat_name').reset_index().rename(columns={\"cat_name\": \"Category\", \"title_x\": \"Trending Videos 2018\", \"title_y\": \"Trending Videos 2018\"})"
   ]
  },
  {
   "cell_type": "markdown",
   "metadata": {},
   "source": [
    "### Average Likes to Views Ratio by Year"
   ]
  },
  {
   "cell_type": "code",
   "execution_count": null,
   "metadata": {},
   "outputs": [],
   "source": [
    "# Avg likes to view ratio by year\n",
    "ratio_2018_series = total_2018_df['likes_to_views'].mean()\n",
    "ratio_2020_series = total_2020_df['likes_to_views'].mean()\n",
    "data = [ratio_2018_series, ratio_2020_series]\n",
    "\n",
    "fig, ax = plt.subplots()\n",
    "fig.patch.set_facecolor('#FFFFFF')\n",
    "fig.set_size_inches(16, 8)\n",
    "years = ['2018', '2020']\n",
    "x_pos = np.arange(len(years))\n",
    "ax.bar(x_pos, data, align='center')\n",
    "ax.set_ylabel('Average Likes to View Ratio')\n",
    "ax.set_xlabel('Year')\n",
    "ax.set_xticks(x_pos)\n",
    "ax.set_xticklabels(years)\n",
    "title = 'Average Likes to View Ratio by Year'\n",
    "ax.set_title(title)\n",
    "ax.yaxis.grid(True)\n",
    "plt.tight_layout()\n",
    "\n",
    "# Save plot to file\n",
    "# file_title = title + '.png'\n",
    "# plt.savefig(save_dir + file_title, dpi=100)"
   ]
  },
  {
   "cell_type": "markdown",
   "metadata": {},
   "source": [
    "### Summary of All Data"
   ]
  },
  {
   "cell_type": "code",
   "execution_count": null,
   "metadata": {},
   "outputs": [],
   "source": [
    "# Summary of likes to views data\n",
    "print(\"Total Views per video 2018: \" + str(total_2018_df['views'].sum()))\n",
    "print(\"Total Views per video 2020: \" + str(total_2020_df['views'].sum()))\n",
    "print(\"Average Likes per video 2018: \" + str(total_2018_df['likes'].mean()))\n",
    "print(\"Average Likes per video 2020: \" + str(total_2020_df['likes'].mean()))\n",
    "print(\"Average Likes to Views ratio 2018: {}\" .format(ratio_2018_series))\n",
    "print(\"Average Likes to Views ratio 2020: {}\" .format(ratio_2020_series))"
   ]
  },
  {
   "cell_type": "markdown",
   "metadata": {},
   "source": [
    "### Average Likes to Views Ratio by Category by Year"
   ]
  },
  {
   "cell_type": "code",
   "execution_count": null,
   "metadata": {},
   "outputs": [],
   "source": [
    "ratio_2018_series = total_2018_df.groupby('cat_name').mean()['likes_to_views']\n",
    "ratio_2020_series = total_2020_df.groupby('cat_name').mean()['likes_to_views']\n",
    "\n",
    "# Get list of all unique categories\n",
    "cats = set()\n",
    "for cat in ratio_2018_series.keys():\n",
    "    cats.add(cat)\n",
    "for cat in ratio_2020_series.keys():\n",
    "    cats.add(cat)\n",
    "    \n",
    "fig, ax = plt.subplots()\n",
    "fig.patch.set_facecolor('#FFFFFF')\n",
    "fig.set_size_inches(16, 8)\n",
    "width = 3\n",
    "count = 0\n",
    "x_ticks = list()\n",
    "\n",
    "for cat in cats:\n",
    "    if cat in ratio_2018_series:\n",
    "        sum_2018 = ratio_2018_series[cat]\n",
    "    else: 0\n",
    "    \n",
    "    if cat in ratio_2020_series:\n",
    "        sum_2020 = ratio_2020_series[cat]\n",
    "    else: 0\n",
    "        \n",
    "    ax.bar(count-width/2, sum_2018, width=width, color='r', align='center')\n",
    "    ax.bar(count+width/2, sum_2020, width=width, color='b', align='center')\n",
    "    x_ticks.append(count)\n",
    "    count += width * 3 + 1\n",
    "    \n",
    "ax.set_xticks(x_ticks)\n",
    "ax.set_xticklabels(cats)\n",
    "ax.legend(['2018', '2020'])\n",
    "title = 'Total Average Likes to Views Ratio by Category and Year'\n",
    "ax.set_title(title)\n",
    "ax.set_ylabel('Average Likes to Views Ratio')\n",
    "ax.set_xlabel('Video Category')\n",
    "ax.yaxis.grid(True)\n",
    "plt.setp(ax.get_xticklabels(), rotation=45, horizontalalignment='right')\n",
    "plt.tight_layout()\n",
    "\n",
    "file_title = title + '.png'\n",
    "plt.savefig(save_dir + file_title, dpi=100)"
   ]
  },
  {
   "cell_type": "code",
   "execution_count": null,
   "metadata": {},
   "outputs": [],
   "source": [
    "avg_cat_ratio_merged =  ratio_2018_series.to_frame().merge(ratio_2020_series, on='cat_name')\n",
    "avg_cat_ratio_merged = avg_cat_ratio_merged.sort_values(by='cat_name').reset_index().rename(columns={\"cat_name\": \"Category\", \"likes_to_views_x\": \"Avg L-T-V Ratio 2018\", \"likes_to_views_y\": \"Avg L-T-V Ratio 2020\"})\n",
    "avg_cat_ratio_merged"
   ]
  },
  {
   "cell_type": "markdown",
   "metadata": {},
   "source": [
    "### Save Data for Analysis"
   ]
  },
  {
   "cell_type": "code",
   "execution_count": null,
   "metadata": {},
   "outputs": [],
   "source": [
    "# categorize data by video category\n",
    "cat_count_total_2018 = total_2018_df.groupby('cat_name').agg({'category_id': 'count', 'views' : 'sum', 'likes': 'sum', 'dislikes': 'sum'}).reset_index()\n",
    "cat_count_total_2018['likes_to_views'] = ((cat_count_total_2018['likes'] / cat_count_total_2018['views'])*100)\n",
    "cat_count_total_2018 = cat_count_total_2018.rename(columns={'category_id':'cat_count'})\n",
    "# appears that YouTube removed Shows and Movies categories\n",
    "# https://techpostplus.com/youtube-video-categories-list-faqs-and-solutions/\n",
    "cat_count_total_2018 = cat_count_total_2018[(cat_count_total_2018['cat_name'] != 'Movies') & (cat_count_total_2018['cat_name'] != 'Shows')]\n",
    "cat_count_total_2018 = cat_count_total_2018.sort_values(by='likes_to_views')\n",
    "\n",
    "cat_count_total_2020 = total_2020_df.groupby('cat_name').agg({'category_id': 'count', 'views' : 'sum', 'likes': 'sum', 'dislikes': 'sum'}).reset_index()\n",
    "cat_count_total_2020['likes_to_views'] = ((cat_count_total_2020['likes'] / cat_count_total_2020['views'])*100)\n",
    "cat_count_total_2020 = cat_count_total_2020.rename(columns={'category_id':'cat_count'})\n",
    "cat_count_total_2020 = cat_count_total_2020.sort_values(by='likes_to_views')\n",
    "\n",
    "# comparing likes to views for each \n",
    "cat_count_total_merged = cat_count_total_2018.merge(cat_count_total_2020, left_on='cat_name', right_on='cat_name', suffixes=(\"_2018\",\"_2020\"))\n",
    "\n",
    "# save df for statistics analysis\n",
    "total_merged_likes_to_views = cat_count_total_merged[['cat_name', 'likes_to_views_2018', 'likes_to_views_2020']]\n",
    "total_merged_likes_to_views.to_csv('./transformed-data/total_merged_likes_to_views.csv', index=False)"
   ]
  },
  {
   "cell_type": "markdown",
   "metadata": {},
   "source": [
    "### Total Likes by Year"
   ]
  },
  {
   "cell_type": "code",
   "execution_count": null,
   "metadata": {},
   "outputs": [],
   "source": [
    "# comparing likes to views for each \n",
    "cat_count_total_merged = cat_count_total_2018.merge(cat_count_total_2020, left_on='cat_name', right_on='cat_name', suffixes=(\"_2018\",\"_2020\"))\n",
    "cat_count_total_merged\n",
    "print(cat_count_total_merged[['cat_name', 'likes_2018', 'likes_2020']])\n",
    "\n",
    "# save df for statistics analysis\n",
    "total_merged_likes = cat_count_total_merged[['cat_name', 'likes_2018', 'likes_2020']]\n",
    "total_merged_likes.to_csv('./transformed-data/total_merged_likes.csv', index=False)\n",
    "\n",
    "plt.figure(figsize=(15,8))\n",
    "\n",
    "ypos = np.arange(len(cat_count_total_merged))\n",
    "# Create bars at specified locations\n",
    "plt.bar(ypos-0.2, cat_count_total_merged['likes_2018'], width=0.4, label='2018 Likes', color='red')\n",
    "plt.bar(ypos+0.2, cat_count_total_merged['likes_2020'], width=0.4, label='2020 Likes', color='blue')\n",
    "\n",
    "ax = plt.gca()\n",
    "plt.xticks(ypos, cat_count_total_merged['cat_name'])\n",
    "ax.set_xticklabels(cat_count_total_merged['cat_name'])\n",
    "ax.yaxis.grid(True)\n",
    "plt.xticks(rotation=45, ha='right')\n",
    "plt.xlabel('Video Category')    \n",
    "plt.legend()\n",
    "plt.ylabel('Likes')\n",
    "title = \"Total Likes by Category by Year\"\n",
    "plt.title(title)\n",
    "plt.tight_layout()\n",
    "\n",
    "file_title = title + '.png'\n",
    "plt.savefig(save_dir + file_title, dpi=100)"
   ]
  },
  {
   "cell_type": "markdown",
   "metadata": {},
   "source": [
    "## Canada Data"
   ]
  },
  {
   "cell_type": "code",
   "execution_count": null,
   "metadata": {},
   "outputs": [],
   "source": [
    "# read in data\n",
    "ca_2018_df = pd.read_csv('./transformed-data/2018_CA_data.csv')\n",
    "ca_2020_df = pd.read_csv('./transformed-data/2020_CA_data.csv')"
   ]
  },
  {
   "cell_type": "markdown",
   "metadata": {},
   "source": [
    "### Total Trending Videos in Canada"
   ]
  },
  {
   "cell_type": "code",
   "execution_count": null,
   "metadata": {},
   "outputs": [],
   "source": [
    "# Total trending videos\n",
    "totals = [ca_2018_df.shape[0], ca_2020_df.shape[0]]  # number of rows of each year\n",
    "print(\"Trending Video Count Canada 2018: \" + str(ca_2018_df.shape[0]))\n",
    "print(\"Trending Video Count Canada 2020: \" + str(ca_2020_df.shape[0]))\n",
    "\n",
    "fig, ax = plt.subplots()\n",
    "fig.patch.set_facecolor('#FFFFFF')\n",
    "fig.set_size_inches(16, 8)\n",
    "years = ['2018', '2020']\n",
    "x_pos = np.arange(len(years))\n",
    "ax.bar(x_pos, totals, align='center')\n",
    "ax.set_ylabel('Total trending videos')\n",
    "ax.set_xlabel('Year')\n",
    "ax.set_xticks(x_pos)\n",
    "ax.set_xticklabels(years)\n",
    "title = 'Total Trending Videos Canada'\n",
    "ax.set_title(title)\n",
    "ax.yaxis.grid(True)\n",
    "plt.tight_layout()\n",
    "\n",
    "# Save plot to file\n",
    "# file_title ='CA - ' + title + '.png'\n",
    "# plt.savefig(save_dir + file_title, dpi=100)"
   ]
  },
  {
   "cell_type": "markdown",
   "metadata": {},
   "source": [
    "### Total Trending Videos by Category by Year in Canada"
   ]
  },
  {
   "cell_type": "code",
   "execution_count": null,
   "metadata": {},
   "outputs": [],
   "source": [
    "# Total trending videos by category by year\n",
    "cats_count_2018_series = ca_2018_df.groupby('cat_name').count()['title']\n",
    "cats_count_2020_series = ca_2020_df.groupby('cat_name').count()['title']\n",
    "\n",
    "# Get list of all unique categories\n",
    "cats = set()\n",
    "for cat in cats_count_2018_series.keys():\n",
    "    cats.add(cat)\n",
    "for cat in cats_count_2020_series.keys():\n",
    "    cats.add(cat)\n",
    "    \n",
    "fig, ax = plt.subplots()\n",
    "fig.patch.set_facecolor('#FFFFFF')\n",
    "fig.set_size_inches(16, 8)\n",
    "width = 3\n",
    "count = 0\n",
    "x_ticks = list()\n",
    "\n",
    "for cat in cats:\n",
    "    if cat in cats_count_2018_series:\n",
    "        sum_2018 = cats_count_2018_series[cat]\n",
    "    else: 0\n",
    "    \n",
    "    if cat in cats_count_2020_series:\n",
    "        sum_2020 = cats_count_2020_series[cat]\n",
    "    else: 0\n",
    "\n",
    "    ax.bar(count-width/2, sum_2018, width=width, color='r', align='center')\n",
    "    ax.bar(count+width/2, sum_2020, width=width, color='b', align='center')\n",
    "    x_ticks.append(count)\n",
    "    count += width * 3 + 1\n",
    "    \n",
    "ax.set_xticks(x_ticks)\n",
    "ax.set_xticklabels(cats)\n",
    "ax.legend(['2018', '2020'])\n",
    "ax.yaxis.grid(True)\n",
    "ax.set_ylabel('Total Trending Videos')\n",
    "ax.set_xlabel('Video Categories')\n",
    "title = 'Total Trending Videos by Category and Year Canada'\n",
    "ax.set_title(title)\n",
    "plt.setp(ax.get_xticklabels(), rotation=45, horizontalalignment='right')\n",
    "# plt.show()\n",
    "plt.tight_layout()\n",
    "\n",
    "file_title ='CA - ' + title + '.png'\n",
    "plt.savefig(save_dir + file_title, dpi=100)"
   ]
  },
  {
   "cell_type": "markdown",
   "metadata": {},
   "source": [
    "### Number of Videos per Category"
   ]
  },
  {
   "cell_type": "code",
   "execution_count": null,
   "metadata": {},
   "outputs": [],
   "source": [
    "ca_cat_count_merged =  cats_count_2018_series.to_frame().merge(cats_count_2020_series, on='cat_name')\n",
    "ca_cat_count_merged.sort_values(by='cat_name').reset_index().rename(columns={\"cat_name\": \"Category\", \"title_x\": \"Trending Videos 2018\", \"title_y\": \"Trending Videos 2018\"})"
   ]
  },
  {
   "cell_type": "markdown",
   "metadata": {},
   "source": [
    "### Average Likes to Views Ratio by Year"
   ]
  },
  {
   "cell_type": "code",
   "execution_count": null,
   "metadata": {},
   "outputs": [],
   "source": [
    "# Avg likes to view ratio\n",
    "ratio_2018_series = ca_2018_df['likes_to_views'].mean()\n",
    "ratio_2020_series = ca_2020_df['likes_to_views'].mean()\n",
    "data = [ratio_2018_series, ratio_2020_series]\n",
    "\n",
    "fig, ax = plt.subplots()\n",
    "fig.patch.set_facecolor('#FFFFFF')\n",
    "fig.set_size_inches(16, 8)\n",
    "years = ['2018', '2020']\n",
    "x_pos = np.arange(len(years))\n",
    "ax.bar(x_pos, data, align='center')\n",
    "ax.set_ylabel('Average Likes to Views Ratio')\n",
    "ax.set_xlabel('Year')\n",
    "ax.set_xticks(x_pos)\n",
    "ax.set_xticklabels(years)\n",
    "title = 'Average Likes to Views Ratio by Year Canada'\n",
    "ax.set_title(title)\n",
    "ax.yaxis.grid(True)\n",
    "# plt.show()\n",
    "plt.tight_layout()\n",
    "\n",
    "file_title ='CA - ' + title + '.png'\n",
    "plt.savefig(save_dir + file_title, dpi=100)"
   ]
  },
  {
   "cell_type": "markdown",
   "metadata": {},
   "source": [
    "### Summary of Canada Data"
   ]
  },
  {
   "cell_type": "code",
   "execution_count": null,
   "metadata": {},
   "outputs": [],
   "source": [
    "print(\"Total Views per video 2018: \" + str(ca_2018_df['views'].sum()))\n",
    "print(\"Total Views per video 2020: \" + str(ca_2020_df['views'].sum()))\n",
    "print(\"Average Likes per video 2018: \" + str(ca_2018_df['likes'].mean()))\n",
    "print(\"Average Likes per video 2020: \" + str(ca_2020_df['likes'].mean()))\n",
    "print(\"Average Like to view ratio 2018: {}\" .format(ratio_2018_series))\n",
    "print(\"Average Like to view ratio 2020: {}\" .format(ratio_2020_series))"
   ]
  },
  {
   "cell_type": "markdown",
   "metadata": {},
   "source": [
    "### Average Likes to Views Ratio by Category by Year"
   ]
  },
  {
   "cell_type": "code",
   "execution_count": null,
   "metadata": {},
   "outputs": [],
   "source": [
    "# Avg likes to view ratio by category by year\n",
    "ratio_2018_series = ca_2018_df.groupby('cat_name').mean()['likes_to_views']\n",
    "ratio_2020_series = ca_2020_df.groupby('cat_name').mean()['likes_to_views']\n",
    "\n",
    "# Get list of all unique categories\n",
    "cats = set()\n",
    "for cat in ratio_2018_series.keys():\n",
    "    cats.add(cat)\n",
    "for cat in ratio_2020_series.keys():\n",
    "    cats.add(cat)\n",
    "    \n",
    "fig, ax = plt.subplots()\n",
    "fig.patch.set_facecolor('#FFFFFF')\n",
    "fig.set_size_inches(16, 8)\n",
    "width = 3\n",
    "count = 0\n",
    "x_ticks = list()\n",
    "\n",
    "for cat in cats:\n",
    "    if cat in ratio_2018_series:\n",
    "        sum_2018 = ratio_2018_series[cat]\n",
    "    else: 0\n",
    "    \n",
    "    if cat in ratio_2020_series:\n",
    "        sum_2020 = ratio_2020_series[cat]\n",
    "    else: 0\n",
    "        \n",
    "    ax.bar(count-width/2, sum_2018, width=width, color='r', align='center')\n",
    "    ax.bar(count+width/2, sum_2020, width=width, color='b', align='center')\n",
    "    x_ticks.append(count)\n",
    "    count += width * 3 + 1\n",
    "    \n",
    "ax.set_xticks(x_ticks)\n",
    "ax.set_xticklabels(cats)\n",
    "ax.legend(['2018', '2020'])\n",
    "title = 'Average Likes to Views Ratio by Category Canada'\n",
    "ax.set_title(title)\n",
    "ax.set_ylabel('Average Likes to Views Ratio')\n",
    "ax.set_xlabel('Video Category')\n",
    "ax.yaxis.grid(True)\n",
    "plt.setp(ax.get_xticklabels(), rotation=45, horizontalalignment='right')\n",
    "# plt.show()\n",
    "plt.tight_layout()\n",
    "\n",
    "file_title ='CA - ' + title + '.png'\n",
    "plt.savefig(save_dir + file_title, dpi=100)"
   ]
  },
  {
   "cell_type": "code",
   "execution_count": null,
   "metadata": {},
   "outputs": [],
   "source": [
    "avg_cat_ratio_merged =  ratio_2018_series.to_frame().merge(ratio_2020_series, on='cat_name')\n",
    "avg_cat_ratio_merged = avg_cat_ratio_merged.sort_values(by='cat_name').reset_index().rename(columns={\"cat_name\": \"Category\", \"likes_to_views_x\": \"Avg L-T-V Ratio 2018\", \"likes_to_views_y\": \"Avg L-T-V Ratio 2020\"})\n",
    "avg_cat_ratio_merged"
   ]
  },
  {
   "cell_type": "markdown",
   "metadata": {},
   "source": [
    "### Save Data for Analysis"
   ]
  },
  {
   "cell_type": "code",
   "execution_count": null,
   "metadata": {},
   "outputs": [],
   "source": [
    "# categorize data by video category\n",
    "cat_count_ca_2018 = ca_2018_df.groupby('cat_name').agg({'category_id': 'count', 'views' : 'sum', 'likes': 'sum', 'dislikes': 'sum'}).reset_index()\n",
    "cat_count_ca_2018['likes_to_views'] = ((cat_count_ca_2018['likes'] / cat_count_ca_2018['views'])*100)\n",
    "cat_count_ca_2018 = cat_count_ca_2018.rename(columns={'category_id':'cat_count'})\n",
    "# appears that YouTube removed Shows and Movies categories\n",
    "# https://techpostplus.com/youtube-video-categories-list-faqs-and-solutions/\n",
    "cat_count_ca_2018 = cat_count_ca_2018[(cat_count_ca_2018['cat_name'] != 'Movies') & (cat_count_ca_2018['cat_name'] != 'Shows')]\n",
    "cat_count_ca_2018 = cat_count_ca_2018.sort_values(by='likes_to_views')\n",
    "\n",
    "cat_count_ca_2020 = ca_2020_df.groupby('cat_name').agg({'category_id': 'count', 'views' : 'sum', 'likes': 'sum', 'dislikes': 'sum'}).reset_index()\n",
    "cat_count_ca_2020['likes_to_views'] = ((cat_count_ca_2020['likes'] / cat_count_ca_2020['views'])*100)\n",
    "cat_count_ca_2020 = cat_count_ca_2020.rename(columns={'category_id':'cat_count'})\n",
    "cat_count_ca_2020 = cat_count_ca_2020.sort_values(by='likes_to_views')\n",
    "\n",
    "# comparing likes to views for each \n",
    "cat_count_ca_merged = cat_count_ca_2018.merge(cat_count_ca_2020, left_on='cat_name', right_on='cat_name', suffixes=(\"_2018\",\"_2020\"))\n",
    "cat_count_ca_merged\n",
    "\n",
    "# save df for statistics analysis\n",
    "ca_merged_likes_to_views = cat_count_ca_merged[['cat_name', 'likes_to_views_2018', 'likes_to_views_2020']]\n",
    "ca_merged_likes_to_views.to_csv('./transformed-data/ca_merged_likes_to_views.csv', index=False)"
   ]
  },
  {
   "cell_type": "markdown",
   "metadata": {},
   "source": [
    "### Total Likes by Year Canada"
   ]
  },
  {
   "cell_type": "code",
   "execution_count": null,
   "metadata": {},
   "outputs": [],
   "source": [
    "# comparing likes to views for each \n",
    "cat_count_ca_merged = cat_count_ca_2018.merge(cat_count_ca_2020, left_on='cat_name', right_on='cat_name', suffixes=(\"_2018\",\"_2020\"))\n",
    "cat_count_ca_merged\n",
    "print(cat_count_ca_merged[['cat_name', 'likes_2018', 'likes_2020']])\n",
    "\n",
    "# save df for statistics analysis\n",
    "ca_merged_likes = cat_count_ca_merged[['cat_name', 'likes_2018', 'likes_2020']]\n",
    "ca_merged_likes.to_csv('./transformed-data/ca_merged_likes.csv', index=False)\n",
    "\n",
    "plt.figure(figsize=(15,8))\n",
    "\n",
    "ypos = np.arange(len(cat_count_ca_merged))\n",
    "# Create bars at specified locations\n",
    "plt.bar(ypos-0.2, cat_count_ca_merged['likes_2018'], width=0.4, label='2018 Likes', color='red')\n",
    "plt.bar(ypos+0.2, cat_count_ca_merged['likes_2020'], width=0.4, label='2020 Likes', color='blue')\n",
    "\n",
    "ax = plt.gca()\n",
    "plt.xticks(ypos, cat_count_ca_merged['cat_name'])\n",
    "ax.set_xticklabels(cat_count_ca_merged['cat_name'])\n",
    "ax.yaxis.grid(True)\n",
    "plt.xticks(rotation=45, ha='right')\n",
    "plt.xlabel('Video Category')    \n",
    "plt.legend()\n",
    "plt.ylabel('Likes')\n",
    "\n",
    "title = \"Likes by Category by Year Canada\"\n",
    "plt.title(title)\n",
    "plt.tight_layout()\n",
    "\n",
    "file_title ='CA - ' + title + '.png'\n",
    "plt.savefig(save_dir + file_title, dpi=100)"
   ]
  },
  {
   "cell_type": "markdown",
   "metadata": {},
   "source": [
    "## Great Britain Data"
   ]
  },
  {
   "cell_type": "code",
   "execution_count": null,
   "metadata": {},
   "outputs": [],
   "source": [
    "# read in data\n",
    "gb_2018_df = pd.read_csv('./transformed-data/2018_GB_data.csv')\n",
    "gb_2020_df = pd.read_csv('./transformed-data/2020_GB_data.csv')"
   ]
  },
  {
   "cell_type": "markdown",
   "metadata": {},
   "source": [
    "### Total Trending Videos in GB"
   ]
  },
  {
   "cell_type": "code",
   "execution_count": null,
   "metadata": {},
   "outputs": [],
   "source": [
    "# Total trending videos\n",
    "totals = [gb_2018_df.shape[0], gb_2020_df.shape[0]]  # number of rows of each year\n",
    "print(\"Trending Video Count Great Britain 2018: \" + str(gb_2018_df.shape[0]))\n",
    "print(\"Trending Video Count Great Britain 2020: \" + str(gb_2020_df.shape[0]))\n",
    "\n",
    "fig, ax = plt.subplots()\n",
    "fig.patch.set_facecolor('#FFFFFF')\n",
    "fig.set_size_inches(16, 8)\n",
    "years = ['2018', '2020']\n",
    "x_pos = np.arange(len(years))\n",
    "ax.bar(x_pos, totals, align='center')\n",
    "ax.set_ylabel('Total Trending Videos')\n",
    "ax.set_xlabel('Year')\n",
    "ax.set_xticks(x_pos)\n",
    "ax.set_xticklabels(years)\n",
    "ax.set_title('Total Trending Videos Great Britain')\n",
    "ax.yaxis.grid(True)\n",
    "plt.tight_layout()\n",
    "\n",
    "# Save plot to file\n",
    "# file_title = 'GB - ' + title + '.png'\n",
    "# plt.savefig(save_dir + file_title, dpi=100)"
   ]
  },
  {
   "cell_type": "markdown",
   "metadata": {},
   "source": [
    "### Total Trending Videos by Category by Year"
   ]
  },
  {
   "cell_type": "code",
   "execution_count": null,
   "metadata": {},
   "outputs": [],
   "source": [
    "cats_count_2018_series = gb_2018_df.groupby(['cat_name']).count()['title']\n",
    "cats_count_2020_series = gb_2020_df.groupby(['cat_name']).count()['title']\n",
    "\n",
    "# Get list of all unique categories\n",
    "cats = set()\n",
    "for cat in cats_count_2018_series.keys():\n",
    "    cats.add(cat)\n",
    "for cat in cats_count_2020_series.keys():\n",
    "    cats.add(cat)\n",
    "    \n",
    "fig, ax = plt.subplots()\n",
    "fig.patch.set_facecolor('#FFFFFF')\n",
    "fig.set_size_inches(16, 8)\n",
    "width = 3\n",
    "count = 0\n",
    "x_ticks = list()\n",
    "\n",
    "for cat in cats:\n",
    "    if cat in cats_count_2018_series:\n",
    "         sum_2018 = cats_count_2018_series[cat]\n",
    "    else: 0\n",
    "    \n",
    "    if cat in cats_count_2020_series:\n",
    "        sum_2020 = cats_count_2020_series[cat]\n",
    "    else: 0\n",
    "\n",
    "    ax.bar(count-width/2, sum_2018, width=width, color='r', align='center')\n",
    "    ax.bar(count+width/2, sum_2020, width=width, color='b', align='center')\n",
    "    x_ticks.append(count)\n",
    "    count += width * 3 + 1\n",
    "    \n",
    "ax.set_xticks(x_ticks)\n",
    "ax.set_xticklabels(cats)\n",
    "ax.legend(['2018', '2020'])\n",
    "ax.yaxis.grid(True)\n",
    "ax.set_ylabel('Total trending videos')\n",
    "ax.set_xlabel('Video Categories')\n",
    "title = 'Total Trending Videos by Category and Year Great Britain'\n",
    "ax.set_title(title)\n",
    "plt.setp(ax.get_xticklabels(), rotation=45, horizontalalignment='right')\n",
    "plt.tight_layout()\n",
    "\n",
    "file_title = 'GB - ' + title + '.png'\n",
    "plt.savefig(save_dir + file_title, dpi=100)"
   ]
  },
  {
   "cell_type": "markdown",
   "metadata": {},
   "source": [
    "### Number of Videos by Category"
   ]
  },
  {
   "cell_type": "code",
   "execution_count": null,
   "metadata": {},
   "outputs": [],
   "source": [
    "gb_cat_count_merged =  cats_count_2018_series.to_frame().merge(cats_count_2020_series, on='cat_name')\n",
    "gb_cat_count_merged.sort_values(by='cat_name').reset_index().rename(columns={\"cat_name\": \"Category\", \"title_x\": \"Trending Videos 2018\", \"title_y\": \"Trending Videos 2018\"})"
   ]
  },
  {
   "cell_type": "markdown",
   "metadata": {},
   "source": [
    "### Average Likes to Views Ratio by Year"
   ]
  },
  {
   "cell_type": "code",
   "execution_count": null,
   "metadata": {},
   "outputs": [],
   "source": [
    "# Avg likes to view ratio\n",
    "ratio_2018_series = gb_2018_df['likes_to_views'].mean()\n",
    "ratio_2020_series = gb_2020_df['likes_to_views'].mean()\n",
    "data = [ratio_2018_series, ratio_2020_series]\n",
    "\n",
    "fig, ax = plt.subplots()\n",
    "fig.patch.set_facecolor('#FFFFFF')\n",
    "fig.set_size_inches(16, 8)\n",
    "years = ['2018', '2020']\n",
    "x_pos = np.arange(len(years))\n",
    "ax.bar(x_pos, data, align='center')\n",
    "ax.set_ylabel('Average Likes to Views Ratio')\n",
    "ax.set_xlabel('Year')\n",
    "ax.set_xticks(x_pos)\n",
    "ax.set_xticklabels(years)\n",
    "title = 'Average Likes to Views Ratio by Year Great Britain'\n",
    "ax.set_title(title)\n",
    "ax.yaxis.grid(True)\n",
    "# plt.show()\n",
    "plt.tight_layout()\n",
    "\n",
    "file_title = 'GB - ' + title + '.png'\n",
    "plt.savefig(save_dir + file_title, dpi=100)"
   ]
  },
  {
   "cell_type": "markdown",
   "metadata": {},
   "source": [
    "### Summary of Great Britain Data"
   ]
  },
  {
   "cell_type": "code",
   "execution_count": null,
   "metadata": {},
   "outputs": [],
   "source": [
    "# Summary of data for Great Britain\n",
    "print(\"Total Views per video 2018: \" + str(gb_2018_df['views'].sum()))\n",
    "print(\"Total Views per video 2020: \" + str(gb_2020_df['views'].sum()))\n",
    "print(\"Average Likes per video 2018: \" + str(gb_2018_df['likes'].mean()))\n",
    "print(\"Average Likes per video 2020: \" + str(gb_2020_df['likes'].mean()))\n",
    "print(\"Like to views ratio 2018: {}\" .format(ratio_2018_series))\n",
    "print(\"Like to views ratio 2020: {}\" .format(ratio_2020_series))"
   ]
  },
  {
   "cell_type": "markdown",
   "metadata": {},
   "source": [
    "### Average Likes to Views Ratio by Categroy by Year"
   ]
  },
  {
   "cell_type": "code",
   "execution_count": null,
   "metadata": {},
   "outputs": [],
   "source": [
    "# Avg likes to view ratio by category by year\n",
    "ratio_2018_series = gb_2018_df.groupby('cat_name').mean()['likes_to_views']\n",
    "ratio_2020_series = gb_2020_df.groupby('cat_name').mean()['likes_to_views']\n",
    "\n",
    "# Get list of all unique categories\n",
    "cats = set()\n",
    "for cat in ratio_2018_series.keys():\n",
    "    cats.add(cat)\n",
    "for cat in ratio_2020_series.keys():\n",
    "    cats.add(cat)\n",
    "    \n",
    "fig, ax = plt.subplots()\n",
    "fig.patch.set_facecolor('#FFFFFF')\n",
    "fig.set_size_inches(16, 8)\n",
    "width = 3\n",
    "count = 0\n",
    "x_ticks = list()\n",
    "\n",
    "for cat in cats:\n",
    "    if cat in ratio_2018_series:\n",
    "         sum_2018 = ratio_2018_series[cat]\n",
    "    else: 0\n",
    "    \n",
    "    if cat in ratio_2020_series:\n",
    "        sum_2020 = ratio_2020_series[cat]\n",
    "    else: 0\n",
    "        \n",
    "    ax.bar(count-width/2, sum_2018, width=width, color='r', align='center')\n",
    "    ax.bar(count+width/2, sum_2020, width=width, color='b', align='center')\n",
    "    x_ticks.append(count)\n",
    "    count += width * 3 + 1\n",
    "    \n",
    "ax.set_xticks(x_ticks)\n",
    "ax.set_xticklabels(cats)\n",
    "ax.legend(['2018', '2020'])\n",
    "title = 'Average Likes to Views Ratio by Category Great Britain'\n",
    "ax.set_title(title)\n",
    "ax.set_ylabel('Average Likes to Views Ratio')\n",
    "ax.set_xlabel('Video Category')\n",
    "ax.yaxis.grid(True)\n",
    "plt.setp(ax.get_xticklabels(), rotation=45, horizontalalignment='right')\n",
    "# plt.show()\n",
    "plt.tight_layout()\n",
    "\n",
    "file_title = 'GB - ' + title + '.png'\n",
    "plt.savefig(save_dir + file_title, dpi=100)"
   ]
  },
  {
   "cell_type": "code",
   "execution_count": null,
   "metadata": {},
   "outputs": [],
   "source": [
    "avg_cat_ratio_merged = ratio_2018_series.to_frame().merge(ratio_2020_series, on='cat_name')\n",
    "avg_cat_ratio_merged = avg_cat_ratio_merged.sort_values(by='cat_name').reset_index().rename(columns={\"cat_name\": \"Category\", \"likes_to_views_x\": \"Avg L-T-V Ratio 2018\", \"likes_to_views_y\": \"Avg L-T-V Ratio 2020\"})\n",
    "avg_cat_ratio_merged"
   ]
  },
  {
   "cell_type": "markdown",
   "metadata": {},
   "source": [
    "### Save Data for Analysis"
   ]
  },
  {
   "cell_type": "code",
   "execution_count": null,
   "metadata": {},
   "outputs": [],
   "source": [
    "# categorize data by video category\n",
    "cat_count_gb_2018 = gb_2018_df.groupby('cat_name').agg({'category_id': 'count', 'views' : 'sum', 'likes': 'sum', 'dislikes': 'sum'}).reset_index()\n",
    "cat_count_gb_2018['likes_to_views'] = ((cat_count_gb_2018['likes'] / cat_count_gb_2018['views'])*100)\n",
    "cat_count_gb_2018 = cat_count_gb_2018.rename(columns={'category_id':'cat_count'})\n",
    "# appears that YouTube removed Shows and Movies categories\n",
    "# https://techpostplus.com/youtube-video-categories-list-faqs-and-solutions/\n",
    "cat_count_gb_2018 = cat_count_gb_2018[(cat_count_gb_2018['cat_name'] != 'Movies') & (cat_count_gb_2018['cat_name'] != 'Shows')]\n",
    "cat_count_gb_2018 = cat_count_gb_2018.sort_values(by='likes_to_views')\n",
    "\n",
    "cat_count_gb_2020 = gb_2020_df.groupby('cat_name').agg({'category_id': 'count', 'views' : 'sum', 'likes': 'sum', 'dislikes': 'sum'}).reset_index()\n",
    "cat_count_gb_2020['likes_to_views'] = ((cat_count_gb_2020['likes'] / cat_count_gb_2020['views'])*100)\n",
    "cat_count_gb_2020 = cat_count_gb_2020.rename(columns={'cate\"gory_id':'cat_count'})\n",
    "cat_count_gb_2020 = cat_count_gb_2020.sort_values(by='likes_to_views')\n",
    "\n",
    "# comparing likes to views for each \n",
    "cat_count_gb_merged = cat_count_gb_2018.merge(cat_count_gb_2020, left_on='cat_name', right_on='cat_name', suffixes=(\"_2018\",\"_2020\"))\n",
    "\n",
    "# save df for statistics analysis\n",
    "gb_merged_likes_to_views = cat_count_gb_merged[['cat_name', 'likes_to_views_2018', 'likes_to_views_2020']]\n",
    "gb_merged_likes_to_views.to_csv('./transformed-data/gb_merged_likes_to_views.csv', index=False)"
   ]
  },
  {
   "cell_type": "markdown",
   "metadata": {},
   "source": [
    "### Great Britian Likes by Year"
   ]
  },
  {
   "cell_type": "code",
   "execution_count": null,
   "metadata": {},
   "outputs": [],
   "source": [
    "cat_count_gb_merged = cat_count_gb_2018.merge(cat_count_gb_2020, left_on='cat_name', right_on='cat_name', suffixes=(\"_2018\",\"_2020\"))\n",
    "cat_count_gb_merged\n",
    "print(cat_count_gb_merged[['cat_name', 'likes_2018', 'likes_2020']])\n",
    "\n",
    "# save df for statistics analysis\n",
    "gb_merged_likes = cat_count_gb_merged[['cat_name', 'likes_2018', 'likes_2020']]\n",
    "gb_merged_likes.to_csv('./transformed-data/gb_merged_likes.csv', index=False)\n",
    "\n",
    "plt.figure(figsize=(15,8))\n",
    "\n",
    "ypos = np.arange(len(cat_count_gb_merged))\n",
    "# Create bars at specified locations\n",
    "plt.bar(ypos-0.2, cat_count_gb_merged['likes_2018'], width=0.4, label='2018 Likes', color='red')\n",
    "plt.bar(ypos+0.2, cat_count_gb_merged['likes_2020'], width=0.4, label='2020 Likes', color='blue')\n",
    "\n",
    "ax = plt.gca()\n",
    "plt.xticks(ypos, cat_count_gb_merged['cat_name'])\n",
    "ax.set_xticklabels(cat_count_gb_merged['cat_name'])\n",
    "ax.yaxis.grid(True)\n",
    "plt.xticks(rotation=45, ha='right')\n",
    "plt.xlabel('Video Category')    \n",
    "plt.legend()\n",
    "plt.ylabel('Likes')\n",
    "\n",
    "title = \"Likes by Category by Year Great Britain\"\n",
    "plt.title(title)\n",
    "plt.tight_layout()\n",
    "\n",
    "file_title ='GB - ' + title + '.png'\n",
    "plt.savefig(save_dir + file_title, dpi=100)"
   ]
  },
  {
   "cell_type": "markdown",
   "metadata": {},
   "source": [
    "### USA Data"
   ]
  },
  {
   "cell_type": "code",
   "execution_count": null,
   "metadata": {},
   "outputs": [],
   "source": [
    "# read in data\n",
    "us_2018_df = pd.read_csv('./transformed-data/2018_US_data.csv')\n",
    "us_2020_df = pd.read_csv('./transformed-data/2020_US_data.csv')"
   ]
  },
  {
   "cell_type": "markdown",
   "metadata": {},
   "source": [
    "### Total Trending Videos"
   ]
  },
  {
   "cell_type": "code",
   "execution_count": null,
   "metadata": {},
   "outputs": [],
   "source": [
    "# Total trending videos\n",
    "totals = [us_2018_df.shape[0], us_2020_df.shape[0]]  # number of rows of each year\n",
    "print(\"Trending Video Count USA 2018: \" + str(us_2018_df.shape[0]))\n",
    "print(\"Trending Video Count USA 2020: \" + str(us_2020_df.shape[0]))\n",
    "\n",
    "fig, ax = plt.subplots()\n",
    "fig.patch.set_facecolor('#FFFFFF')\n",
    "fig.set_size_inches(16, 8)\n",
    "years = ['2018', '2020']\n",
    "x_pos = np.arange(len(years))\n",
    "ax.bar(x_pos, totals, align='center')\n",
    "ax.set_ylabel('Total Trending Videos')\n",
    "ax.set_xlabel('Year')\n",
    "ax.set_xticks(x_pos)\n",
    "ax.set_xticklabels(years)\n",
    "title = 'Total Trending Videos USA'\n",
    "ax.set_title(title)\n",
    "ax.yaxis.grid(True)\n",
    "plt.tight_layout()\n",
    "\n",
    "# Save plot to file\n",
    "# file_title = 'US - ' + title + '.png'\n",
    "# plt.savefig(save_dir + file_title, dpi=100)"
   ]
  },
  {
   "cell_type": "markdown",
   "metadata": {},
   "source": [
    "### Total Trending Videos by Category by Year"
   ]
  },
  {
   "cell_type": "code",
   "execution_count": null,
   "metadata": {},
   "outputs": [],
   "source": [
    "cats_count_2018_series = us_2018_df.groupby('cat_name').count()['title']\n",
    "cats_count_2020_series = us_2020_df.groupby('cat_name').count()['title']\n",
    "\n",
    "# Get list of all unique categories\n",
    "cats = set()\n",
    "for cat in cats_count_2018_series.keys():\n",
    "    cats.add(cat)\n",
    "for cat in cats_count_2020_series.keys():\n",
    "    cats.add(cat)\n",
    "    \n",
    "fig, ax = plt.subplots()\n",
    "fig.patch.set_facecolor('#FFFFFF')\n",
    "fig.set_size_inches(16, 8)\n",
    "width = 3\n",
    "count = 0\n",
    "x_ticks = list()\n",
    "\n",
    "for cat in cats:\n",
    "    if cat in cats_count_2018_series:\n",
    "         sum_2018 = cats_count_2018_series[cat]\n",
    "    else: 0\n",
    "    \n",
    "    if cat in cats_count_2020_series:\n",
    "        sum_2020 = cats_count_2020_series[cat]\n",
    "    else: 0\n",
    "\n",
    "    ax.bar(count-width/2, sum_2018, width=width, color='r', align='center')\n",
    "    ax.bar(count+width/2, sum_2020, width=width, color='b', align='center')\n",
    "    x_ticks.append(count)\n",
    "    count += width * 3 + 1\n",
    "    \n",
    "ax.set_xticks(x_ticks)\n",
    "ax.set_xticklabels(cats)\n",
    "ax.legend(['2018', '2020'])\n",
    "ax.yaxis.grid(True)\n",
    "ax.set_ylabel('Total trending videos')\n",
    "ax.set_xlabel('Video Categories')\n",
    "title = 'Total Trending Videos by Category and Year USA'\n",
    "ax.set_title(title)\n",
    "plt.setp(ax.get_xticklabels(), rotation=45, horizontalalignment='right')\n",
    "# plt.show()\n",
    "plt.tight_layout()\n",
    "\n",
    "file_title = 'US - ' + title + '.png'\n",
    "plt.savefig(save_dir + file_title, dpi=100)"
   ]
  },
  {
   "cell_type": "markdown",
   "metadata": {},
   "source": [
    "### Number of Videos by Category"
   ]
  },
  {
   "cell_type": "code",
   "execution_count": null,
   "metadata": {},
   "outputs": [],
   "source": [
    "us_cat_count_merged =  cats_count_2018_series.to_frame().merge(cats_count_2020_series, on='cat_name')\n",
    "us_cat_count_merged.sort_values(by='cat_name').reset_index().rename(columns={\"cat_name\": \"Category\", \"title_x\": \"Trending Videos 2018\", \"title_y\": \"Trending Videos 2018\"})"
   ]
  },
  {
   "cell_type": "markdown",
   "metadata": {},
   "source": [
    "### Average Likes to Views by Year"
   ]
  },
  {
   "cell_type": "code",
   "execution_count": null,
   "metadata": {},
   "outputs": [],
   "source": [
    "# Avg likes to view ratio\n",
    "ratio_2018_series = us_2018_df['likes_to_views'].mean()\n",
    "ratio_2020_series = us_2020_df['likes_to_views'].mean()\n",
    "data = [ratio_2018_series, ratio_2020_series]\n",
    "\n",
    "fig, ax = plt.subplots()\n",
    "fig.patch.set_facecolor('#FFFFFF')\n",
    "fig.set_size_inches(16, 8)\n",
    "years = ['2018', '2020']\n",
    "x_pos = np.arange(len(years))\n",
    "ax.bar(x_pos, data, align='center')\n",
    "ax.set_ylabel('Average likes to view ratio')\n",
    "ax.set_xlabel('Year')\n",
    "ax.set_xticks(x_pos)\n",
    "ax.set_xticklabels(years)\n",
    "title = 'Average Likes to Views Ratio by Year USA'\n",
    "ax.set_title(title)\n",
    "ax.yaxis.grid(True)\n",
    "# plt.show()\n",
    "plt.tight_layout()\n",
    "\n",
    "file_title = 'US - ' + title + '.png'\n",
    "plt.savefig(save_dir + file_title, dpi=100)"
   ]
  },
  {
   "cell_type": "markdown",
   "metadata": {},
   "source": [
    "### Summary of USA data"
   ]
  },
  {
   "cell_type": "code",
   "execution_count": null,
   "metadata": {},
   "outputs": [],
   "source": [
    "print(\"Total Views per video 2018: \" + str(us_2018_df['views'].sum()))\n",
    "print(\"Total Views per video 2020: \" + str(us_2020_df['views'].sum()))\n",
    "print(\"Average Likes per video 2018: \" + str(us_2018_df['likes'].mean()))\n",
    "print(\"Average Likes per video 2020: \" + str(us_2020_df['likes'].mean()))\n",
    "print(\"Like to view ratio 2018: {}\" .format(ratio_2018_series))\n",
    "print(\"Like to view ratio 2020: {}\" .format(ratio_2020_series))"
   ]
  },
  {
   "cell_type": "markdown",
   "metadata": {},
   "source": [
    "### Average Likes to Views Ratio by Category by Year"
   ]
  },
  {
   "cell_type": "code",
   "execution_count": null,
   "metadata": {},
   "outputs": [],
   "source": [
    "# Avg likes to view ratio by category by year\n",
    "ratio_2018_series = us_2018_df.groupby('cat_name').mean()['likes_to_views']\n",
    "ratio_2020_series = us_2020_df.groupby('cat_name').mean()['likes_to_views']\n",
    "\n",
    "# Get list of all unique categories\n",
    "cats = set()\n",
    "for cat in ratio_2018_series.keys():\n",
    "    cats.add(cat)\n",
    "for cat in ratio_2020_series.keys():\n",
    "    cats.add(cat)\n",
    "    \n",
    "fig, ax = plt.subplots()\n",
    "fig.patch.set_facecolor('#FFFFFF')\n",
    "fig.set_size_inches(16, 8)\n",
    "width = 3\n",
    "count = 0\n",
    "x_ticks = list()\n",
    "\n",
    "for cat in cats:\n",
    "    if cat in ratio_2018_series:\n",
    "        sum_2018 = ratio_2018_series[cat]\n",
    "    else: 0\n",
    "    \n",
    "    if cat in ratio_2020_series:\n",
    "        sum_2020 = ratio_2020_series[cat]\n",
    "    else: 0\n",
    "        \n",
    "    ax.bar(count-width/2, sum_2018, width=width, color='r', align='center')\n",
    "    ax.bar(count+width/2, sum_2020, width=width, color='b', align='center')\n",
    "    x_ticks.append(count)\n",
    "    count += width * 3 + 1\n",
    "    \n",
    "ax.set_xticks(x_ticks)\n",
    "ax.set_xticklabels(cats)\n",
    "ax.legend(['2018', '2020'])\n",
    "title = 'Average Likes to Views Ratio by Category USA'\n",
    "ax.set_title(title)\n",
    "ax.set_ylabel('Average Likes to Views Ratio')\n",
    "ax.set_xlabel('Video Category')\n",
    "ax.yaxis.grid(True)\n",
    "plt.setp(ax.get_xticklabels(), rotation=45, horizontalalignment='right')\n",
    "# plt.show()\n",
    "plt.tight_layout()\n",
    "\n",
    "file_title = 'US - ' + title + '.png'\n",
    "plt.savefig(save_dir + file_title, dpi=100)"
   ]
  },
  {
   "cell_type": "code",
   "execution_count": null,
   "metadata": {},
   "outputs": [],
   "source": [
    "avg_cat_ratio_merged =  ratio_2018_series.to_frame().merge(ratio_2020_series, on='cat_name')\n",
    "avg_cat_ratio_merged = avg_cat_ratio_merged.sort_values(by='cat_name').reset_index().rename(columns={\"cat_name\": \"Category\", \"likes_to_views_x\": \"Avg L-T-V Ratio 2018\", \"likes_to_views_y\": \"Avg L-T-V Ratio 2020\"})\n",
    "avg_cat_ratio_merged"
   ]
  },
  {
   "cell_type": "markdown",
   "metadata": {},
   "source": [
    "### Save Data for Analysis"
   ]
  },
  {
   "cell_type": "code",
   "execution_count": null,
   "metadata": {},
   "outputs": [],
   "source": [
    "# categorize data by video category\n",
    "cat_count_us_2018 = us_2018_df.groupby('cat_name').agg({'category_id': 'count', 'views' : 'sum', 'likes': 'sum', 'dislikes': 'sum'}).reset_index()\n",
    "cat_count_us_2018['likes_to_views'] = ((cat_count_us_2018['likes'] / cat_count_us_2018['views'])*100)\n",
    "cat_count_us_2018 = cat_count_us_2018.rename(columns={'category_id':'cat_count'})\n",
    "# appears that YouTube removed Shows and Movies categories\n",
    "# https://techpostplus.com/youtube-video-categories-list-faqs-and-solutions/\n",
    "cat_count_us_2018 = cat_count_us_2018[(cat_count_us_2018['cat_name'] != 'Movies') & (cat_count_us_2018['cat_name'] != 'Shows')]\n",
    "cat_count_us_2018 = cat_count_us_2018.sort_values(by='likes_to_views')\n",
    "\n",
    "cat_count_us_2020 = us_2020_df.groupby('cat_name').agg({'category_id': 'count', 'views' : 'sum', 'likes': 'sum', 'dislikes': 'sum'}).reset_index()\n",
    "cat_count_us_2020['likes_to_views'] = ((cat_count_us_2020['likes'] / cat_count_us_2020['views'])*100)\n",
    "cat_count_us_2020 = cat_count_us_2020.rename(columns={'cate\"gory_id':'cat_count'})\n",
    "cat_count_us_2020 = cat_count_us_2020.sort_values(by='likes_to_views')\n",
    "\n",
    "# comparing likes to views for each \n",
    "cat_count_us_merged = cat_count_us_2018.merge(cat_count_us_2020, left_on='cat_name', right_on='cat_name', suffixes=(\"_2018\",\"_2020\"))\n",
    "\n",
    "# save df for statistics analysis\n",
    "us_merged_likes_to_views = cat_count_us_merged[['cat_name', 'likes_to_views_2018', 'likes_to_views_2020']]\n",
    "us_merged_likes_to_views.to_csv('./transformed-data/us_merged_likes_to_views.csv', index=False)"
   ]
  },
  {
   "cell_type": "markdown",
   "metadata": {},
   "source": [
    "### USA Likes"
   ]
  },
  {
   "cell_type": "code",
   "execution_count": null,
   "metadata": {},
   "outputs": [],
   "source": [
    "# comparing likes to views for each \n",
    "cat_count_us_merged = cat_count_us_2018.merge(cat_count_us_2020, left_on='cat_name', right_on='cat_name', suffixes=(\"_2018\",\"_2020\"))\n",
    "cat_count_us_merged\n",
    "print(cat_count_us_merged[['cat_name', 'likes_2018', 'likes_2020']])\n",
    "\n",
    "# save df for statistics analysis\n",
    "us_merged_likes = cat_count_us_merged[['cat_name', 'likes_2018', 'likes_2020']]\n",
    "us_merged_likes.to_csv('./transformed-data/us_merged_likes.csv', index=False)\n",
    "\n",
    "plt.figure(figsize=(15,8))\n",
    "\n",
    "ypos = np.arange(len(cat_count_us_merged))\n",
    "# Create bars at specified locations\n",
    "plt.bar(ypos-0.2, cat_count_us_merged['likes_2018'], width=0.4, label='2018 Likes', color='red')\n",
    "plt.bar(ypos+0.2, cat_count_us_merged['likes_2020'], width=0.4, label='2020 Likes', color='blue')\n",
    "\n",
    "ax = plt.gca()\n",
    "plt.xticks(ypos, cat_count_us_merged['cat_name'])\n",
    "ax.set_xticklabels(cat_count_us_merged['cat_name'])\n",
    "ax.yaxis.grid(True)\n",
    "plt.xticks(rotation=45, ha='right')\n",
    "plt.xlabel('Video Category')    \n",
    "plt.legend()\n",
    "plt.ylabel('Likes')\n",
    "\n",
    "title = \"Likes by Category by Year USA\"\n",
    "plt.title(title)\n",
    "plt.tight_layout()\n",
    "\n",
    "file_title ='US - ' + title + '.png'\n",
    "plt.savefig(save_dir + file_title, dpi=100)"
   ]
  },
  {
   "cell_type": "code",
   "execution_count": null,
   "metadata": {},
   "outputs": [],
   "source": []
  }
 ],
 "metadata": {
  "kernelspec": {
   "display_name": "Python 3",
   "language": "python",
   "name": "python3"
  },
  "language_info": {
   "codemirror_mode": {
    "name": "ipython",
    "version": 3
   },
   "file_extension": ".py",
   "mimetype": "text/x-python",
   "name": "python",
   "nbconvert_exporter": "python",
   "pygments_lexer": "ipython3",
   "version": "3.8.5"
  }
 },
 "nbformat": 4,
 "nbformat_minor": 4
}
