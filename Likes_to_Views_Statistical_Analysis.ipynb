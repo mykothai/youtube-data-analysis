{
 "cells": [
  {
   "cell_type": "markdown",
   "metadata": {},
   "source": [
    "# Statistical Analysis"
   ]
  },
  {
   "cell_type": "code",
   "execution_count": null,
   "metadata": {},
   "outputs": [],
   "source": [
    "# libraries\n",
    "import numpy as np\n",
    "import pandas as pd\n",
    "import matplotlib.pyplot as plt\n",
    "from scipy import stats\n",
    "from statsmodels.stats.multicomp import pairwise_tukeyhsd"
   ]
  },
  {
   "cell_type": "code",
   "execution_count": null,
   "metadata": {},
   "outputs": [],
   "source": [
    "# Set to see all rows (https://piazza.com/class/keelp7u2rd65ms?cid=29)\n",
    "# pd.set_option(\"display.max_rows\", None, \"display.max_columns\", None)"
   ]
  },
  {
   "cell_type": "code",
   "execution_count": null,
   "metadata": {},
   "outputs": [],
   "source": [
    "# load data files\n",
    "ca_data_2018 = pd.read_csv('./transformed-data/2018_CA_data.csv')\n",
    "ca_data_2020 = pd.read_csv('./transformed-data/2020_CA_data.csv')\n",
    "gb_data_2018 = pd.read_csv('./transformed-data/2018_GB_data.csv')\n",
    "gb_data_2020 = pd.read_csv('./transformed-data/2020_GB_data.csv')\n",
    "us_data_2018 = pd.read_csv('./transformed-data/2018_US_data.csv')\n",
    "us_data_2020 = pd.read_csv('./transformed-data/2020_US_data.csv')\n",
    "\n",
    "# Directory to save plots\n",
    "save_dir = './Trending Video Likes to Views Ratio Analysis PLOTS/'"
   ]
  },
  {
   "cell_type": "markdown",
   "metadata": {},
   "source": [
    "## Anova on Likes to Views Canada"
   ]
  },
  {
   "cell_type": "code",
   "execution_count": null,
   "metadata": {},
   "outputs": [],
   "source": [
    "# Filter for L-T-V Ratio\n",
    "ca_data_2018_filter = ca_data_2018[['cat_name', 'likes_to_views']]\n",
    "ca_data_2018_filter = ca_data_2018_filter[ca_data_2018_filter['likes_to_views'] > 0]\n",
    "# ca_data_2018_filter['cat_name'] = ca_data_2018_filter[ca_data_2018_filter['cat_name'] != 'Shows']\n",
    "ca_data_2018_filter['cat_name'] = ca_data_2018_filter['cat_name'].astype(str) + '_2018'\n",
    "# ca_data_2018_filter\n",
    "\n",
    "ca_data_2020_filter = ca_data_2020[['cat_name', 'likes_to_views']]\n",
    "ca_data_2020_filter = ca_data_2020_filter[ca_data_2020_filter['likes_to_views'] > 0]\n",
    "ca_data_2020_filter['cat_name'] = ca_data_2020_filter['cat_name'].astype(str) + '_2020'\n",
    "# ca_data_2020_filter"
   ]
  },
  {
   "cell_type": "code",
   "execution_count": null,
   "metadata": {},
   "outputs": [],
   "source": [
    "# Transform the data\n",
    "ca_data_2018_filter['likes_to_views'] = np.sqrt(ca_data_2018_filter['likes_to_views'])\n",
    "ca_data_2020_filter['likes_to_views'] = np.sqrt(ca_data_2020_filter['likes_to_views'])"
   ]
  },
  {
   "cell_type": "code",
   "execution_count": null,
   "metadata": {},
   "outputs": [],
   "source": [
    "# L-T-V ratios by Category 2018\n",
    "x1 = ca_data_2018_filter[ca_data_2018_filter['cat_name'] == 'Film & Animation_2018']['likes_to_views']\n",
    "x2 = ca_data_2018_filter[ca_data_2018_filter['cat_name'] == 'Music_2018']['likes_to_views']\n",
    "x3 = ca_data_2018_filter[ca_data_2018_filter['cat_name'] == 'News & Politics_2018']['likes_to_views']\n",
    "x4 = ca_data_2018_filter[ca_data_2018_filter['cat_name'] == 'Pets & Animals_2018']['likes_to_views']\n",
    "x5 = ca_data_2018_filter[ca_data_2018_filter['cat_name'] == 'Entertainment_2018']['likes_to_views']\n",
    "x6 = ca_data_2018_filter[ca_data_2018_filter['cat_name'] == 'Education_2018']['likes_to_views']\n",
    "x7 = ca_data_2018_filter[ca_data_2018_filter['cat_name'] == 'Howto & Style_2018']['likes_to_views']\n",
    "x8 = ca_data_2018_filter[ca_data_2018_filter['cat_name'] == 'People & Blogs_2018']['likes_to_views']\n",
    "x9 = ca_data_2018_filter[ca_data_2018_filter['cat_name'] == 'Comedy_2018']['likes_to_views']\n",
    "x10 = ca_data_2018_filter[ca_data_2018_filter['cat_name'] == 'Sports_2018']['likes_to_views']\n",
    "x11 = ca_data_2018_filter[ca_data_2018_filter['cat_name'] == 'Science & Technology_2018']['likes_to_views']\n",
    "x12 = ca_data_2018_filter[ca_data_2018_filter['cat_name'] == 'Travel & Events_2018']['likes_to_views']\n",
    "x13 = ca_data_2018_filter[ca_data_2018_filter['cat_name'] == 'Autos & Vehicles_2018']['likes_to_views']\n",
    "x14 = ca_data_2018_filter[ca_data_2018_filter['cat_name'] == 'Gaming_2018']['likes_to_views']\n",
    "\n",
    "# L-T-V ratios by Category 2020\n",
    "y1 = ca_data_2020_filter[ca_data_2020_filter['cat_name'] == 'Film & Animation_2020']['likes_to_views']\n",
    "y2 = ca_data_2020_filter[ca_data_2020_filter['cat_name'] == 'Music_2020']['likes_to_views']\n",
    "y3 = ca_data_2020_filter[ca_data_2020_filter['cat_name'] == 'News & Politics_2020']['likes_to_views']\n",
    "y4 = ca_data_2020_filter[ca_data_2020_filter['cat_name'] == 'Pets & Animals_2020']['likes_to_views']\n",
    "y5 = ca_data_2020_filter[ca_data_2020_filter['cat_name'] == 'Entertainment_2020']['likes_to_views']\n",
    "y6 = ca_data_2020_filter[ca_data_2020_filter['cat_name'] == 'Education_2020']['likes_to_views']\n",
    "y7 = ca_data_2020_filter[ca_data_2020_filter['cat_name'] == 'Howto & Style_2020']['likes_to_views']\n",
    "y8 = ca_data_2020_filter[ca_data_2020_filter['cat_name'] == 'People & Blogs_2020']['likes_to_views']\n",
    "y9 = ca_data_2020_filter[ca_data_2020_filter['cat_name'] == 'Comedy_2020']['likes_to_views']\n",
    "y10 = ca_data_2020_filter[ca_data_2020_filter['cat_name'] == 'Sports_2020']['likes_to_views']\n",
    "y11 = ca_data_2020_filter[ca_data_2020_filter['cat_name'] == 'Science & Technology_2020']['likes_to_views']\n",
    "y12 = ca_data_2020_filter[ca_data_2020_filter['cat_name'] == 'Travel & Events_2020']['likes_to_views']\n",
    "y13 = ca_data_2020_filter[ca_data_2020_filter['cat_name'] == 'Autos & Vehicles_2020']['likes_to_views']\n",
    "y14 = ca_data_2020_filter[ca_data_2020_filter['cat_name'] == 'Gaming_2020']['likes_to_views']"
   ]
  },
  {
   "cell_type": "code",
   "execution_count": null,
   "metadata": {},
   "outputs": [],
   "source": [
    "# Histogram of transformed CA 2018 data\n",
    "bars = 20\n",
    "plt.figure(figsize=(8, 6))\n",
    "\n",
    "plt.hist(x1, bars, alpha=0.5, label='Film & Animation_2018')\n",
    "plt.hist(x2, bars, alpha=0.5, label='Music_2018')\n",
    "plt.hist(x3, bars, alpha=0.5, label='News & Politics_2018')\n",
    "plt.hist(x4, bars, alpha=0.5, label='Pets & Animals_2018')\n",
    "plt.hist(x5, bars, alpha=0.5, label='Entertainment_2018')\n",
    "plt.hist(x6, bars, alpha=0.5, label='Education_2018')\n",
    "plt.hist(x7, bars, alpha=0.5, label='Howto & Style_2018')\n",
    "plt.hist(x8, bars, alpha=0.5, label='People & Blogs_2018')\n",
    "plt.hist(x9, bars, alpha=0.5, label='Comedy_2018')\n",
    "plt.hist(x10, bars, alpha=0.5, label='Sports_2018')\n",
    "plt.hist(x11, bars, alpha=0.5, label='Science & Technology_2018')\n",
    "plt.hist(x12, bars, alpha=0.5, label='Travel & Events_2018')\n",
    "plt.hist(x13, bars, alpha=0.5, label='Autos & Vehicles_2018')\n",
    "plt.hist(x14, bars, alpha=0.5, label='Gaming_2018')\n",
    "\n",
    "title = 'CA - L-T-V Ratio 2018 Transformed'\n",
    "plt.title(title)\n",
    "plt.xlabel('L-T-V Ratio')\n",
    "plt.ylabel('Frequency')\n",
    "plt.legend()\n",
    "plt.tight_layout()\n",
    "\n",
    "# Save plot to file\n",
    "file_title = title + '.png'\n",
    "plt.savefig(save_dir + file_title)"
   ]
  },
  {
   "cell_type": "code",
   "execution_count": null,
   "metadata": {},
   "outputs": [],
   "source": [
    "# Histogram of transformed CA 2020 data\n",
    "bars = 20\n",
    "plt.figure(figsize=(8, 6))\n",
    "\n",
    "plt.hist(y1, bars, alpha=0.5, label='Film & Animation_2018')\n",
    "plt.hist(y2, bars, alpha=0.5, label='Music_2018')\n",
    "plt.hist(y3, bars, alpha=0.5, label='News & Politics_2018')\n",
    "plt.hist(y4, bars, alpha=0.5, label='Pets & Animals_2018')\n",
    "plt.hist(y5, bars, alpha=0.5, label='Entertainment_2018')\n",
    "plt.hist(y6, bars, alpha=0.5, label='Education_2018')\n",
    "plt.hist(y7, bars, alpha=0.5, label='Howto & Style_2018')\n",
    "plt.hist(y8, bars, alpha=0.5, label='People & Blogs_2018')\n",
    "plt.hist(y9, bars, alpha=0.5, label='Comedy_2018')\n",
    "plt.hist(y10, bars, alpha=0.5, label='Sports_2018')\n",
    "plt.hist(y11, bars, alpha=0.5, label='Science & Technology_2018')\n",
    "plt.hist(y12, bars, alpha=0.5, label='Travel & Events_2018')\n",
    "plt.hist(y13, bars, alpha=0.5, label='Autos & Vehicles_2018')\n",
    "plt.hist(y14, bars, alpha=0.5, label='Gaming_2018')\n",
    "\n",
    "title = 'CA - L-T-V Ratio 2020 Transformed'\n",
    "plt.title(title)\n",
    "plt.xlabel('L-T-V Ratio')\n",
    "plt.ylabel('Frequency')\n",
    "plt.legend()\n",
    "plt.tight_layout()\n",
    "\n",
    "# Save plot to file\n",
    "file_title = title + '.png'\n",
    "plt.savefig(save_dir + file_title)"
   ]
  },
  {
   "cell_type": "code",
   "execution_count": null,
   "metadata": {},
   "outputs": [],
   "source": [
    "# Perform ANOVA Test\n",
    "anova_results = stats.f_oneway(x1, x2, x3, x4, x5, x6, x7, x8, x9, x10, x11, x12, x13, x14,\n",
    "                               y1, y2, y3, y4, y5, y6, y7, y8, y9, y10, y11, y12, y13, y14)\n",
    "\n",
    "print('\\n-> ANOVA p-value for Views of trending Views per each Year, Category pair\\n')\n",
    "print(anova_results)\n",
    "print('P-value: {0:.15f}'.format(anova_results.pvalue))"
   ]
  },
  {
   "cell_type": "markdown",
   "metadata": {},
   "source": [
    "## Post Hoc Tukey's Test on Likes to Views Canada"
   ]
  },
  {
   "cell_type": "code",
   "execution_count": null,
   "metadata": {},
   "outputs": [],
   "source": [
    "# Append 2018 and 2020 data together\n",
    "ca_data_years_joined = ca_data_2018_filter.append(ca_data_2020_filter, ignore_index=True)\n",
    "# ca_data_years_joined"
   ]
  },
  {
   "cell_type": "code",
   "execution_count": null,
   "metadata": {},
   "outputs": [],
   "source": [
    "# Perform Tukey's Analysis per category\n",
    "posthoc = pairwise_tukeyhsd(ca_data_years_joined['likes_to_views'], ca_data_years_joined['cat_name'], alpha=0.05)\n",
    "\n",
    "print('PostHoc Analysis for L-T-V ratio Per Categories for 2018 vs 2020:\\n')\n",
    "print(posthoc)"
   ]
  },
  {
   "cell_type": "code",
   "execution_count": null,
   "metadata": {},
   "outputs": [],
   "source": [
    "# Save Tukey's data\n",
    "fig = posthoc.plot_simultaneous()    \n",
    "fig.set_size_inches(20, 20)\n",
    "fig.patch.set_facecolor('#FFFFFF')\n",
    "fig.subplots_adjust(top=0.95)\n",
    "title = 'CA - Tukeys Test for L-T-V Ratio per Categories of 2018 and 2020'\n",
    "plt.suptitle(title, size=16)\n",
    "plt.ylabel('Categories')\n",
    "plt.xlabel('L-T-V Ratio')\n",
    "\n",
    "# Save plot to file\n",
    "file_title = title + '.png'\n",
    "fig.savefig(save_dir + file_title)"
   ]
  },
  {
   "cell_type": "markdown",
   "metadata": {},
   "source": [
    "## Anova on Likes to Views Great Britain"
   ]
  },
  {
   "cell_type": "code",
   "execution_count": null,
   "metadata": {},
   "outputs": [],
   "source": [
    "# Filter for L-T-V Ratio\n",
    "gb_data_2018_filter = gb_data_2018[['cat_name', 'likes_to_views']]\n",
    "gb_data_2018_filter = gb_data_2018_filter[gb_data_2018_filter['likes_to_views'] > 0]\n",
    "gb_data_2018_filter['cat_name'] = gb_data_2018_filter[gb_data_2018_filter['cat_name'] != 'Shows']\n",
    "gb_data_2018_filter['cat_name'] = gb_data_2018_filter['cat_name'].astype(str) + '_2018'\n",
    "\n",
    "gb_data_2020_filter = gb_data_2020[['cat_name', 'likes_to_views']]\n",
    "gb_data_2020_filter = gb_data_2020_filter[gb_data_2020_filter['likes_to_views'] > 0]\n",
    "gb_data_2020_filter['cat_name'] = gb_data_2020_filter['cat_name'].astype(str) + '_2020'"
   ]
  },
  {
   "cell_type": "code",
   "execution_count": null,
   "metadata": {},
   "outputs": [],
   "source": [
    "# Transform the data\n",
    "gb_data_2018_filter['likes_to_views'] = np.sqrt(gb_data_2018_filter['likes_to_views'])\n",
    "gb_data_2020_filter['likes_to_views'] = np.sqrt(gb_data_2020_filter['likes_to_views'])"
   ]
  },
  {
   "cell_type": "code",
   "execution_count": null,
   "metadata": {},
   "outputs": [],
   "source": [
    "# L-T-V ratios by Category 2018\n",
    "x1 = gb_data_2018_filter[gb_data_2018_filter['cat_name'] == 'Film & Animation_2018']['likes_to_views']\n",
    "x2 = gb_data_2018_filter[gb_data_2018_filter['cat_name'] == 'Music_2018']['likes_to_views']\n",
    "x3 = gb_data_2018_filter[gb_data_2018_filter['cat_name'] == 'News & Politics_2018']['likes_to_views']\n",
    "x4 = gb_data_2018_filter[gb_data_2018_filter['cat_name'] == 'Pets & Animals_2018']['likes_to_views']\n",
    "x5 = gb_data_2018_filter[gb_data_2018_filter['cat_name'] == 'Entertainment_2018']['likes_to_views']\n",
    "x6 = gb_data_2018_filter[gb_data_2018_filter['cat_name'] == 'Education_2018']['likes_to_views']\n",
    "x7 = gb_data_2018_filter[gb_data_2018_filter['cat_name'] == 'Howto & Style_2018']['likes_to_views']\n",
    "x8 = gb_data_2018_filter[gb_data_2018_filter['cat_name'] == 'People & Blogs_2018']['likes_to_views']\n",
    "x9 = gb_data_2018_filter[gb_data_2018_filter['cat_name'] == 'Comedy_2018']['likes_to_views']\n",
    "x10 = gb_data_2018_filter[gb_data_2018_filter['cat_name'] == 'Sports_2018']['likes_to_views']\n",
    "x11 = gb_data_2018_filter[gb_data_2018_filter['cat_name'] == 'Science & Technology_2018']['likes_to_views']\n",
    "x12 = gb_data_2018_filter[gb_data_2018_filter['cat_name'] == 'Travel & Events_2018']['likes_to_views']\n",
    "x13 = gb_data_2018_filter[gb_data_2018_filter['cat_name'] == 'Autos & Vehicles_2018']['likes_to_views']\n",
    "x14 = gb_data_2018_filter[gb_data_2018_filter['cat_name'] == 'Gaming_2018']['likes_to_views']\n",
    "\n",
    "# L-T-V ratios by Category 2020\n",
    "y1 = gb_data_2020_filter[gb_data_2020_filter['cat_name'] == 'Film & Animation_2020']['likes_to_views']\n",
    "y2 = gb_data_2020_filter[gb_data_2020_filter['cat_name'] == 'Music_2020']['likes_to_views']\n",
    "y3 = gb_data_2020_filter[gb_data_2020_filter['cat_name'] == 'News & Politics_2020']['likes_to_views']\n",
    "y4 = gb_data_2020_filter[gb_data_2020_filter['cat_name'] == 'Pets & Animals_2020']['likes_to_views']\n",
    "y5 = gb_data_2020_filter[gb_data_2020_filter['cat_name'] == 'Entertainment_2020']['likes_to_views']\n",
    "y6 = gb_data_2020_filter[gb_data_2020_filter['cat_name'] == 'Education_2020']['likes_to_views']\n",
    "y7 = gb_data_2020_filter[gb_data_2020_filter['cat_name'] == 'Howto & Style_2020']['likes_to_views']\n",
    "y8 = gb_data_2020_filter[gb_data_2020_filter['cat_name'] == 'People & Blogs_2020']['likes_to_views']\n",
    "y9 = gb_data_2020_filter[gb_data_2020_filter['cat_name'] == 'Comedy_2020']['likes_to_views']\n",
    "y10 = gb_data_2020_filter[gb_data_2020_filter['cat_name'] == 'Sports_2020']['likes_to_views']\n",
    "y11 = gb_data_2020_filter[gb_data_2020_filter['cat_name'] == 'Science & Technology_2020']['likes_to_views']\n",
    "y12 = gb_data_2020_filter[gb_data_2020_filter['cat_name'] == 'Travel & Events_2020']['likes_to_views']\n",
    "y13 = gb_data_2020_filter[gb_data_2020_filter['cat_name'] == 'Autos & Vehicles_2020']['likes_to_views']\n",
    "y14 = gb_data_2020_filter[gb_data_2020_filter['cat_name'] == 'Gaming_2020']['likes_to_views']"
   ]
  },
  {
   "cell_type": "code",
   "execution_count": null,
   "metadata": {},
   "outputs": [],
   "source": [
    "# Histogram of transformed GB 2018 data\n",
    "bars = 20\n",
    "plt.figure(figsize=(8, 6))\n",
    "\n",
    "plt.hist(x1, bars, alpha=0.5, label='Film & Animation_2018')\n",
    "plt.hist(x2, bars, alpha=0.5, label='Music_2018')\n",
    "plt.hist(x3, bars, alpha=0.5, label='News & Politics_2018')\n",
    "plt.hist(x4, bars, alpha=0.5, label='Pets & Animals_2018')\n",
    "plt.hist(x5, bars, alpha=0.5, label='Entertainment_2018')\n",
    "plt.hist(x6, bars, alpha=0.5, label='Education_2018')\n",
    "plt.hist(x7, bars, alpha=0.5, label='Howto & Style_2018')\n",
    "plt.hist(x8, bars, alpha=0.5, label='People & Blogs_2018')\n",
    "plt.hist(x9, bars, alpha=0.5, label='Comedy_2018')\n",
    "plt.hist(x10, bars, alpha=0.5, label='Sports_2018')\n",
    "plt.hist(x11, bars, alpha=0.5, label='Science & Technology_2018')\n",
    "plt.hist(x12, bars, alpha=0.5, label='Travel & Events_2018')\n",
    "plt.hist(x13, bars, alpha=0.5, label='Autos & Vehicles_2018')\n",
    "plt.hist(x14, bars, alpha=0.5, label='Gaming_2018')\n",
    "\n",
    "title='GB - L-T-V Ratio 2018 Transformed'\n",
    "plt.title(title)\n",
    "plt.xlabel('L-T-V Ratio')\n",
    "plt.ylabel('Frequency')\n",
    "plt.legend()\n",
    "plt.tight_layout()\n",
    "\n",
    "# Save plot to file\n",
    "file_title = title + '.png'\n",
    "plt.savefig(save_dir + file_title)"
   ]
  },
  {
   "cell_type": "code",
   "execution_count": null,
   "metadata": {},
   "outputs": [],
   "source": [
    "# Histogram of transformed GB 2020 data\n",
    "bars = 20\n",
    "plt.figure(figsize=(8, 6))\n",
    "\n",
    "plt.hist(y1, bars, alpha=0.5, label='Film & Animation_2018')\n",
    "plt.hist(y2, bars, alpha=0.5, label='Music_2018')\n",
    "plt.hist(y3, bars, alpha=0.5, label='News & Politics_2018')\n",
    "plt.hist(y4, bars, alpha=0.5, label='Pets & Animals_2018')\n",
    "plt.hist(y5, bars, alpha=0.5, label='Entertainment_2018')\n",
    "plt.hist(y6, bars, alpha=0.5, label='Education_2018')\n",
    "plt.hist(y7, bars, alpha=0.5, label='Howto & Style_2018')\n",
    "plt.hist(y8, bars, alpha=0.5, label='People & Blogs_2018')\n",
    "plt.hist(y9, bars, alpha=0.5, label='Comedy_2018')\n",
    "plt.hist(y10, bars, alpha=0.5, label='Sports_2018')\n",
    "plt.hist(y11, bars, alpha=0.5, label='Science & Technology_2018')\n",
    "plt.hist(y12, bars, alpha=0.5, label='Travel & Events_2018')\n",
    "plt.hist(y13, bars, alpha=0.5, label='Autos & Vehicles_2018')\n",
    "plt.hist(y14, bars, alpha=0.5, label='Gaming_2018')\n",
    "\n",
    "title = 'GB - L-T-V Ratio 2020 Transformed'\n",
    "plt.title(title)\n",
    "plt.xlabel('L-T-V Ratio')\n",
    "plt.ylabel('Frequency')\n",
    "plt.legend()\n",
    "plt.tight_layout()\n",
    "\n",
    "# Save plot to file\n",
    "file_title = title + '.png'\n",
    "plt.savefig(save_dir + file_title)"
   ]
  },
  {
   "cell_type": "code",
   "execution_count": null,
   "metadata": {},
   "outputs": [],
   "source": [
    "# Perform ANOVA Test\n",
    "anova_results = stats.f_oneway(x1, x2, x3, x4, x5, x6, x7, x8, x9, x10, x11, x12, x13, x14,\n",
    "                               y1, y2, y3, y4, y5, y6, y7, y8, y9, y10, y11, y12, y13, y14)\n",
    "\n",
    "print('\\n-> ANOVA p-value for Views of trending Views per each Year, Category pair\\n')\n",
    "print(anova_results)\n",
    "print('P-value: {0:.15f}'.format(anova_results.pvalue))"
   ]
  },
  {
   "cell_type": "markdown",
   "metadata": {},
   "source": [
    "## Post Hoc Tukey's Test on Likes to Views Great Britain"
   ]
  },
  {
   "cell_type": "code",
   "execution_count": null,
   "metadata": {},
   "outputs": [],
   "source": [
    "# Append 2018 and 2020 data together\n",
    "gb_data_years_joined = gb_data_2018_filter.append(gb_data_2020_filter, ignore_index=True)\n",
    "# gb_data_years_joined"
   ]
  },
  {
   "cell_type": "code",
   "execution_count": null,
   "metadata": {},
   "outputs": [],
   "source": [
    "# Perform Tukey's Analysis per category\n",
    "posthoc = pairwise_tukeyhsd(gb_data_years_joined['likes_to_views'], gb_data_years_joined['cat_name'], alpha=0.05)\n",
    "\n",
    "print('PostHoc Analysis for L-T-V ratio Per Categories for 2018 vs 2020:\\n')\n",
    "print(posthoc)"
   ]
  },
  {
   "cell_type": "code",
   "execution_count": null,
   "metadata": {},
   "outputs": [],
   "source": [
    "# Save Tukey's data\n",
    "fig = posthoc.plot_simultaneous()    \n",
    "fig.set_size_inches(20, 20)\n",
    "fig.patch.set_facecolor('#FFFFFF')\n",
    "fig.subplots_adjust(top=0.95)\n",
    "title = 'GB - Tukeys Test for L-T-V Ratio per Categories of 2018 and 2020'\n",
    "plt.suptitle(title, size=16)\n",
    "plt.ylabel('Categories')\n",
    "plt.xlabel('L-T-V Ratio')\n",
    "\n",
    "# Save plot to file\n",
    "file_title = title + '.png'\n",
    "fig.savefig(save_dir + file_title)"
   ]
  },
  {
   "cell_type": "markdown",
   "metadata": {},
   "source": [
    "## Anova on Likes to Views USA"
   ]
  },
  {
   "cell_type": "code",
   "execution_count": null,
   "metadata": {},
   "outputs": [],
   "source": [
    "# Filter for L-T-V Ratio\n",
    "us_data_2018_filter = us_data_2018[['cat_name', 'likes_to_views']]\n",
    "us_data_2018_filter = us_data_2018_filter[us_data_2018_filter['likes_to_views'] > 0]\n",
    "us_data_2018_filter['cat_name'] = us_data_2018_filter[us_data_2018_filter['cat_name'] != 'Shows']\n",
    "us_data_2018_filter['cat_name'] = us_data_2018_filter['cat_name'].astype(str) + '_2018'\n",
    "# ca_data_2018_filter\n",
    "\n",
    "us_data_2020_filter = us_data_2020[['cat_name', 'likes_to_views']]\n",
    "us_data_2020_filter = us_data_2020_filter[us_data_2020_filter['likes_to_views'] > 0]\n",
    "us_data_2020_filter['cat_name'] = us_data_2020_filter['cat_name'].astype(str) + '_2020'\n",
    "# us_data_2020_filter"
   ]
  },
  {
   "cell_type": "code",
   "execution_count": null,
   "metadata": {},
   "outputs": [],
   "source": [
    "# Transform the data\n",
    "us_data_2018_filter['likes_to_views'] = np.sqrt(us_data_2018_filter['likes_to_views'])\n",
    "us_data_2020_filter['likes_to_views'] = np.sqrt(us_data_2020_filter['likes_to_views'])"
   ]
  },
  {
   "cell_type": "code",
   "execution_count": null,
   "metadata": {},
   "outputs": [],
   "source": [
    "# L-T-V ratios by Category 2018\n",
    "x1 = us_data_2018_filter[us_data_2018_filter['cat_name'] == 'Film & Animation_2018']['likes_to_views']\n",
    "x2 = us_data_2018_filter[us_data_2018_filter['cat_name'] == 'Music_2018']['likes_to_views']\n",
    "x3 = us_data_2018_filter[us_data_2018_filter['cat_name'] == 'News & Politics_2018']['likes_to_views']\n",
    "x4 = us_data_2018_filter[us_data_2018_filter['cat_name'] == 'Pets & Animals_2018']['likes_to_views']\n",
    "x5 = us_data_2018_filter[us_data_2018_filter['cat_name'] == 'Entertainment_2018']['likes_to_views']\n",
    "x6 = us_data_2018_filter[us_data_2018_filter['cat_name'] == 'Education_2018']['likes_to_views']\n",
    "x7 = us_data_2018_filter[us_data_2018_filter['cat_name'] == 'Howto & Style_2018']['likes_to_views']\n",
    "x8 = us_data_2018_filter[us_data_2018_filter['cat_name'] == 'People & Blogs_2018']['likes_to_views']\n",
    "x9 = us_data_2018_filter[us_data_2018_filter['cat_name'] == 'Comedy_2018']['likes_to_views']\n",
    "x10 = us_data_2018_filter[us_data_2018_filter['cat_name'] == 'Sports_2018']['likes_to_views']\n",
    "x11 = us_data_2018_filter[us_data_2018_filter['cat_name'] == 'Science & Technology_2018']['likes_to_views']\n",
    "x12 = us_data_2018_filter[us_data_2018_filter['cat_name'] == 'Travel & Events_2018']['likes_to_views']\n",
    "x13 = us_data_2018_filter[us_data_2018_filter['cat_name'] == 'Autos & Vehicles_2018']['likes_to_views']\n",
    "x14 = us_data_2018_filter[us_data_2018_filter['cat_name'] == 'Gaming_2018']['likes_to_views']\n",
    "x15 = us_data_2018_filter[us_data_2018_filter['cat_name'] == 'Nonprofits & Activism_2018']['likes_to_views']\n",
    "\n",
    "# L-T-V ratios by Category 2020\n",
    "y1 = us_data_2020_filter[us_data_2020_filter['cat_name'] == 'Film & Animation_2020']['likes_to_views']\n",
    "y2 = us_data_2020_filter[us_data_2020_filter['cat_name'] == 'Music_2020']['likes_to_views']\n",
    "y3 = us_data_2020_filter[us_data_2020_filter['cat_name'] == 'News & Politics_2020']['likes_to_views']\n",
    "y4 = us_data_2020_filter[us_data_2020_filter['cat_name'] == 'Pets & Animals_2020']['likes_to_views']\n",
    "y5 = us_data_2020_filter[us_data_2020_filter['cat_name'] == 'Entertainment_2020']['likes_to_views']\n",
    "y6 = us_data_2020_filter[us_data_2020_filter['cat_name'] == 'Education_2020']['likes_to_views']\n",
    "y7 = us_data_2020_filter[us_data_2020_filter['cat_name'] == 'Howto & Style_2020']['likes_to_views']\n",
    "y8 = us_data_2020_filter[us_data_2020_filter['cat_name'] == 'People & Blogs_2020']['likes_to_views']\n",
    "y9 = us_data_2020_filter[us_data_2020_filter['cat_name'] == 'Comedy_2020']['likes_to_views']\n",
    "y10 = us_data_2020_filter[us_data_2020_filter['cat_name'] == 'Sports_2020']['likes_to_views']\n",
    "y11 = us_data_2020_filter[us_data_2020_filter['cat_name'] == 'Science & Technology_2020']['likes_to_views']\n",
    "y12 = us_data_2020_filter[us_data_2020_filter['cat_name'] == 'Travel & Events_2020']['likes_to_views']\n",
    "y13 = us_data_2020_filter[us_data_2020_filter['cat_name'] == 'Autos & Vehicles_2020']['likes_to_views']\n",
    "y14 = us_data_2020_filter[us_data_2020_filter['cat_name'] == 'Gaming_2020']['likes_to_views']\n",
    "y15 = us_data_2020_filter[us_data_2020_filter['cat_name'] == 'Nonprofits & Activism_2020']['likes_to_views']"
   ]
  },
  {
   "cell_type": "code",
   "execution_count": null,
   "metadata": {},
   "outputs": [],
   "source": [
    "# Histogram of transformed GB 2018 data\n",
    "bars = 20\n",
    "plt.figure(figsize=(8, 6))\n",
    "\n",
    "plt.hist(x1, bars, alpha=0.5, label='Film & Animation_2018')\n",
    "plt.hist(x2, bars, alpha=0.5, label='Music_2018')\n",
    "plt.hist(x3, bars, alpha=0.5, label='News & Politics_2018')\n",
    "plt.hist(x4, bars, alpha=0.5, label='Pets & Animals_2018')\n",
    "plt.hist(x5, bars, alpha=0.5, label='Entertainment_2018')\n",
    "plt.hist(x6, bars, alpha=0.5, label='Education_2018')\n",
    "plt.hist(x7, bars, alpha=0.5, label='Howto & Style_2018')\n",
    "plt.hist(x8, bars, alpha=0.5, label='People & Blogs_2018')\n",
    "plt.hist(x9, bars, alpha=0.5, label='Comedy_2018')\n",
    "plt.hist(x10, bars, alpha=0.5, label='Sports_2018')\n",
    "plt.hist(x11, bars, alpha=0.5, label='Science & Technology_2018')\n",
    "plt.hist(x12, bars, alpha=0.5, label='Travel & Events_2018')\n",
    "plt.hist(x13, bars, alpha=0.5, label='Autos & Vehicles_2018')\n",
    "plt.hist(x14, bars, alpha=0.5, label='Gaming_2018')\n",
    "plt.hist(x15, bars, alpha=0.5, label='Nonprofits & Activism_2020')\n",
    "\n",
    "title = 'US - L-T-V Ratio 2018 Transformed'\n",
    "plt.title(title)\n",
    "plt.xlabel('L-T-V Ratio')\n",
    "plt.ylabel('Frequency')\n",
    "plt.legend()\n",
    "plt.tight_layout()\n",
    "\n",
    "# Save plot to file\n",
    "file_title = title + '.png'\n",
    "plt.savefig(save_dir + file_title)"
   ]
  },
  {
   "cell_type": "code",
   "execution_count": null,
   "metadata": {},
   "outputs": [],
   "source": [
    "# Histogram of transformed GB 2020 data\n",
    "bars = 20\n",
    "plt.figure(figsize=(8, 6))\n",
    "\n",
    "plt.hist(y1, bars, alpha=0.5, label='Film & Animation_2018')\n",
    "plt.hist(y2, bars, alpha=0.5, label='Music_2018')\n",
    "plt.hist(y3, bars, alpha=0.5, label='News & Politics_2018')\n",
    "plt.hist(y4, bars, alpha=0.5, label='Pets & Animals_2018')\n",
    "plt.hist(y5, bars, alpha=0.5, label='Entertainment_2018')\n",
    "plt.hist(y6, bars, alpha=0.5, label='Education_2018')\n",
    "plt.hist(y7, bars, alpha=0.5, label='Howto & Style_2018')\n",
    "plt.hist(y8, bars, alpha=0.5, label='People & Blogs_2018')\n",
    "plt.hist(y9, bars, alpha=0.5, label='Comedy_2018')\n",
    "plt.hist(y10, bars, alpha=0.5, label='Sports_2018')\n",
    "plt.hist(y11, bars, alpha=0.5, label='Science & Technology_2018')\n",
    "plt.hist(y12, bars, alpha=0.5, label='Travel & Events_2018')\n",
    "plt.hist(y13, bars, alpha=0.5, label='Autos & Vehicles_2018')\n",
    "plt.hist(y14, bars, alpha=0.5, label='Gaming_2018')\n",
    "plt.hist(y15, bars, alpha=0.5, label='Nonprofits & Activism_2020')\n",
    "\n",
    "title = 'US - L-T-V Ratio 2020 Transformed'\n",
    "plt.title(title)\n",
    "plt.xlabel('L-T-V Ratio')\n",
    "plt.ylabel('Frequency')\n",
    "plt.legend()\n",
    "plt.tight_layout()\n",
    "\n",
    "# Save plot to file\n",
    "file_title = title + '.png'\n",
    "plt.savefig(save_dir + file_title)"
   ]
  },
  {
   "cell_type": "code",
   "execution_count": null,
   "metadata": {},
   "outputs": [],
   "source": [
    "# Perform ANOVA Test\n",
    "anova_results = stats.f_oneway(x1, x2, x3, x4, x5, x6, x7, x8, x9, x10, x11, x12, x13, x14, x15,\n",
    "                               y1, y2, y3, y4, y5, y6, y7, y8, y9, y10, y11, y12, y13, y14, y15)\n",
    "\n",
    "print('\\n-> ANOVA p-value for Views of trending Views per each Year, Category pair\\n')\n",
    "print(anova_results)\n",
    "print('P-value: {0:.15f}'.format(anova_results.pvalue))"
   ]
  },
  {
   "cell_type": "markdown",
   "metadata": {},
   "source": [
    "## Post Hoc Tukey's Test on Likes to Views USA"
   ]
  },
  {
   "cell_type": "code",
   "execution_count": null,
   "metadata": {},
   "outputs": [],
   "source": [
    "# Append 2018 and 2020 data together\n",
    "us_data_years_joined = us_data_2018_filter.append(us_data_2020_filter, ignore_index=True)\n",
    "# us_data_years_joined"
   ]
  },
  {
   "cell_type": "code",
   "execution_count": null,
   "metadata": {},
   "outputs": [],
   "source": [
    "# Perform Tukey's Analysis per category\n",
    "posthoc = pairwise_tukeyhsd(us_data_years_joined['likes_to_views'], us_data_years_joined['cat_name'], alpha=0.05)\n",
    "\n",
    "print('PostHoc Analysis for L-T-V ratio Per Categories for 2018 vs 2020:\\n')\n",
    "print(posthoc)"
   ]
  },
  {
   "cell_type": "code",
   "execution_count": null,
   "metadata": {},
   "outputs": [],
   "source": [
    "# Save Tukey's data\n",
    "fig = posthoc.plot_simultaneous()    \n",
    "fig.set_size_inches(20, 20)\n",
    "fig.patch.set_facecolor('#FFFFFF')\n",
    "fig.subplots_adjust(top=0.95)\n",
    "title = 'US - Tukeys Test for L-T-V Ratio per Categories of 2018 and 2020'\n",
    "plt.suptitle(title, size=16)\n",
    "plt.ylabel('Categories')\n",
    "plt.xlabel('L-T-V Ratio')\n",
    "\n",
    "# Save plot to file\n",
    "file_title = title + '.png'\n",
    "fig.savefig(save_dir + file_title)"
   ]
  },
  {
   "cell_type": "markdown",
   "metadata": {},
   "source": [
    "## Chi-Squared Statistical Test on Likes Data\n",
    "Chi-square test of independence of variables in a contingency table."
   ]
  },
  {
   "cell_type": "markdown",
   "metadata": {},
   "source": [
    "### Total Likes by Year"
   ]
  },
  {
   "cell_type": "code",
   "execution_count": null,
   "metadata": {},
   "outputs": [],
   "source": [
    "# load data files\n",
    "total_merged_likes = pd.read_csv('./transformed-data/total_merged_likes.csv')\n",
    "ca_merged_likes = pd.read_csv('./transformed-data/ca_merged_likes.csv')\n",
    "gb_merged_likes = pd.read_csv('./transformed-data/gb_merged_likes.csv')\n",
    "us_merged_likes = pd.read_csv('./transformed-data/us_merged_likes.csv')"
   ]
  },
  {
   "cell_type": "code",
   "execution_count": null,
   "metadata": {},
   "outputs": [],
   "source": [
    "likes_cats_total = total_merged_likes.sort_values(by='cat_name').reset_index(drop=True)\n",
    "likes_cats_total"
   ]
  },
  {
   "cell_type": "code",
   "execution_count": null,
   "metadata": {},
   "outputs": [],
   "source": [
    "# chi-squared for all categories between 2018 and 2020 USA\n",
    "col1 = likes_cats_total['likes_2018'].tolist()\n",
    "col2 = likes_cats_total['likes_2020'].tolist()\n",
    "contingency = np.array([col1, col2])\n",
    "\n",
    "chi2, p, dof, expected = stats.chi2_contingency(contingency)\n",
    "\n",
    "print('p-value: \\t\\t{0:.15f}'.format(p))\n",
    "print('test statistic: \\t' + str(chi2))\n",
    "print('degrees of freedom: \\t' + str(dof))\n",
    "print('expected: \\n' + str(expected))"
   ]
  },
  {
   "cell_type": "markdown",
   "metadata": {},
   "source": [
    "### Canada Likes by Year"
   ]
  },
  {
   "cell_type": "code",
   "execution_count": null,
   "metadata": {},
   "outputs": [],
   "source": [
    "likes_cats_ca = ca_merged_likes.sort_values(by='cat_name').reset_index(drop=True)\n",
    "likes_cats_ca"
   ]
  },
  {
   "cell_type": "code",
   "execution_count": null,
   "metadata": {},
   "outputs": [],
   "source": [
    "# chi-squared for all categories between 2018 and 2020 Great Britain\n",
    "col1 = likes_cats_ca['likes_2018'].tolist()\n",
    "col2 = likes_cats_ca['likes_2020'].tolist()\n",
    "contingency = np.array([col1, col2])\n",
    "\n",
    "chi2, p, dof, expected = stats.chi2_contingency(contingency)\n",
    "\n",
    "print('p-value: \\t\\t{0:.15f}'.format(p))\n",
    "print('test statistic: \\t' + str(chi2))\n",
    "print('degrees of freedom: \\t' + str(dof))\n",
    "print('expected: \\n' + str(expected))"
   ]
  },
  {
   "cell_type": "markdown",
   "metadata": {},
   "source": [
    "### Great Britain Likes by Year"
   ]
  },
  {
   "cell_type": "code",
   "execution_count": null,
   "metadata": {},
   "outputs": [],
   "source": [
    "likes_cats_gb = gb_merged_likes.sort_values(by='cat_name').reset_index(drop=True)\n",
    "likes_cats_gb"
   ]
  },
  {
   "cell_type": "code",
   "execution_count": null,
   "metadata": {},
   "outputs": [],
   "source": [
    "# chi-squared for all categories between 2018 and 2020 Great Britain\n",
    "col1 = likes_cats_gb['likes_2018'].tolist()\n",
    "col2 = likes_cats_gb['likes_2020'].tolist()\n",
    "contingency = np.array([col1, col2])\n",
    "\n",
    "chi2, p, dof, expected = stats.chi2_contingency(contingency)\n",
    "print(contingency)\n",
    "\n",
    "print('p-value: \\t\\t{0:.15f}'.format(p))\n",
    "print('test statistic: \\t' + str(chi2))\n",
    "print('degrees of freedom: \\t' + str(dof))\n",
    "print('expected: \\n' + str(expected))"
   ]
  },
  {
   "cell_type": "markdown",
   "metadata": {},
   "source": [
    "### USA Likes by Year"
   ]
  },
  {
   "cell_type": "code",
   "execution_count": null,
   "metadata": {},
   "outputs": [],
   "source": [
    "likes_cats_us = us_merged_likes.sort_values(by='cat_name').reset_index(drop=True)\n",
    "likes_cats_us"
   ]
  },
  {
   "cell_type": "code",
   "execution_count": null,
   "metadata": {},
   "outputs": [],
   "source": [
    "# chi-squared for all categories between 2018 and 2020 USA\n",
    "col1 = likes_cats_us['likes_2018'].tolist()\n",
    "col2 = likes_cats_us['likes_2020'].tolist()\n",
    "contingency = np.array([col1, col2])\n",
    "\n",
    "chi2, p, dof, expected = stats.chi2_contingency(contingency)\n",
    "\n",
    "print('p-value: \\t\\t{0:.15f}'.format(p))\n",
    "print('test statistic: \\t' + str(chi2))\n",
    "print('degrees of freedom: \\t' + str(dof))\n",
    "print('expected: \\n' + str(expected))"
   ]
  },
  {
   "cell_type": "code",
   "execution_count": null,
   "metadata": {},
   "outputs": [],
   "source": []
  }
 ],
 "metadata": {
  "kernelspec": {
   "display_name": "Python 3",
   "language": "python",
   "name": "python3"
  },
  "language_info": {
   "codemirror_mode": {
    "name": "ipython",
    "version": 3
   },
   "file_extension": ".py",
   "mimetype": "text/x-python",
   "name": "python",
   "nbconvert_exporter": "python",
   "pygments_lexer": "ipython3",
   "version": "3.8.5"
  }
 },
 "nbformat": 4,
 "nbformat_minor": 4
}
